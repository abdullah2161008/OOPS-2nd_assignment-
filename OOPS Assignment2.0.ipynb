{
 "cells": [
  {
   "cell_type": "markdown",
   "id": "a6ddaffb",
   "metadata": {},
   "source": [
    "# Constructor : "
   ]
  },
  {
   "cell_type": "code",
   "execution_count": null,
   "id": "2504e735",
   "metadata": {},
   "outputs": [],
   "source": []
  },
  {
   "cell_type": "markdown",
   "id": "655fe06a",
   "metadata": {},
   "source": [
    "1. What is a constructor in Python? Explain its purpose and usage."
   ]
  },
  {
   "cell_type": "markdown",
   "id": "2b85a225",
   "metadata": {},
   "source": [
    "\"\"\"Def : A consructor is a special method in a class used to create and initialize an object of a class.\n",
    "The main purpose of the constructor is to initialize or assign values to the data members of that class.\n",
    "it cannot return anyother value other than None eg,(__init__)\"\"\""
   ]
  },
  {
   "cell_type": "code",
   "execution_count": null,
   "id": "d567496a",
   "metadata": {},
   "outputs": [],
   "source": []
  },
  {
   "cell_type": "markdown",
   "id": "24488bad",
   "metadata": {},
   "source": [
    "2. Differentiate between a parameterless constructor and a parameterized constructor in Python"
   ]
  },
  {
   "cell_type": "code",
   "execution_count": 2,
   "id": "fac279d3",
   "metadata": {},
   "outputs": [],
   "source": [
    "\"\"\"Parameterless Constructor :The Prameterless constructor is a simple constructor which doesn’t accept any arguments. Its definition has only one argument which is a reference to the instance being constructed.\n",
    "eg,def __init__(self):\n",
    "        self.info = 'pwskills'\n",
    "Parameterized Constructor :constructor with parameters is known as parameterized constructor. The parameterized constructor takes its first argument as a reference to the instance being constructed known as self and the rest of the arguments are provided by the programmer.\n",
    "eg,def __init__(self,class,topic):\n",
    "          self.class=class\n",
    "          self.topic=topic\n",
    "\"\"\""
   ]
  },
  {
   "cell_type": "code",
   "execution_count": null,
   "id": "671231d6",
   "metadata": {},
   "outputs": [],
   "source": []
  },
  {
   "cell_type": "markdown",
   "id": "c17dec33",
   "metadata": {},
   "source": [
    "3. How do you define a constructor in a Python class? Provide an example."
   ]
  },
  {
   "cell_type": "code",
   "execution_count": 7,
   "id": "f8cfe931",
   "metadata": {},
   "outputs": [
    {
     "data": {
      "text/plain": [
       "('Abdullah', 'Python', 216)"
      ]
     },
     "execution_count": 7,
     "metadata": {},
     "output_type": "execute_result"
    }
   ],
   "source": [
    "class student:\n",
    "    def __init__(self,name,lecture,roll_no):#this is constructor\n",
    "        self.name=name\n",
    "        self.lecture=lecture\n",
    "        self.roll_no=roll_no\n",
    "    def student_details(self):\n",
    "        return self.name,self.lecture,self.roll_no\n",
    "sudh=student(\"Abdullah\",\"Python\",216)\n",
    "sudh.student_details()"
   ]
  },
  {
   "cell_type": "code",
   "execution_count": null,
   "id": "0c73005b",
   "metadata": {},
   "outputs": [],
   "source": []
  },
  {
   "cell_type": "markdown",
   "id": "19fd631f",
   "metadata": {},
   "source": [
    "4. Explain the `__init__` method in Python and its role in constructors"
   ]
  },
  {
   "cell_type": "code",
   "execution_count": null,
   "id": "52747f06",
   "metadata": {},
   "outputs": [],
   "source": [
    "\"\"\"\n",
    "The __init__ function is called every time an object is created from a class.\n",
    "The __init__ method lets the class initialize the object's attributes and serves no other purpose.\n",
    "It is only used within classes.\n",
    "Example :\n",
    "class student:\n",
    "    def __init__(self,name,lecture,roll_no):#this is constructor\n",
    "        self.name=name\n",
    "        self.lecture=lecture\n",
    "        self.roll_no=roll_no\n",
    "    def student_details(self):\n",
    "        return self.name,self.lecture,self.roll_no\n",
    "sudh=student(\"Abdullah\",\"Python\",216)\n",
    "print(sudh.student_details())\n",
    "\"\"\""
   ]
  },
  {
   "cell_type": "code",
   "execution_count": null,
   "id": "73810906",
   "metadata": {},
   "outputs": [],
   "source": []
  },
  {
   "cell_type": "markdown",
   "id": "a0de0117",
   "metadata": {},
   "source": [
    "5. In a class named `Person`, create a constructor that initializes the `name` and `age` attributes. Provide an example of creating an object of this class."
   ]
  },
  {
   "cell_type": "code",
   "execution_count": 11,
   "id": "5736ad30",
   "metadata": {},
   "outputs": [
    {
     "name": "stdout",
     "output_type": "stream",
     "text": [
      "abdullah\n",
      "19\n"
     ]
    }
   ],
   "source": [
    "class person:\n",
    "    def __init__(self,name,age):\n",
    "        self.name=name\n",
    "        self.age=age\n",
    "pw=person(\"abdullah\",19)\n",
    "print(pw.name)\n",
    "print(pw.age)"
   ]
  },
  {
   "cell_type": "code",
   "execution_count": null,
   "id": "86defee8",
   "metadata": {},
   "outputs": [],
   "source": []
  },
  {
   "cell_type": "markdown",
   "id": "cafca657",
   "metadata": {},
   "source": [
    "6. How can you call a constructor explicitly in Python? Give an example."
   ]
  },
  {
   "cell_type": "code",
   "execution_count": 12,
   "id": "10016834",
   "metadata": {},
   "outputs": [
    {
     "data": {
      "text/plain": [
       "('Abdullah', 'Python', 216)"
      ]
     },
     "execution_count": 12,
     "metadata": {},
     "output_type": "execute_result"
    }
   ],
   "source": [
    "class student:\n",
    "    def __init__(self,name,lecture,roll_no):#this is constructor\n",
    "        self.name=name\n",
    "        self.lecture=lecture\n",
    "        self.roll_no=roll_no\n",
    "    def student_details(self):\n",
    "        return self.name,self.lecture,self.roll_no\n",
    "sudh=student(\"Abdullah\",\"Python\",216)\n",
    "sudh.student_details()"
   ]
  },
  {
   "cell_type": "code",
   "execution_count": null,
   "id": "aa506b2e",
   "metadata": {},
   "outputs": [],
   "source": []
  },
  {
   "cell_type": "markdown",
   "id": "31e4dade",
   "metadata": {},
   "source": [
    "7. What is the significance of the `self` parameter in Python constructors? Explain with an example."
   ]
  },
  {
   "cell_type": "code",
   "execution_count": 15,
   "id": "65eac994",
   "metadata": {},
   "outputs": [
    {
     "name": "stdout",
     "output_type": "stream",
     "text": [
      "Sudh is a Data Scientist\n"
     ]
    }
   ],
   "source": [
    "\"\"\"\n",
    "Def:Self represents the instance of the class. By using the “self” we can access the attributes and methods of the class in Python.\n",
    "It binds the attributes with the given arguments.\n",
    "\"\"\"\n",
    "#Example:\n",
    "class role:\n",
    "    def __init__(self,name,prof):\n",
    "        self.name=name\n",
    "        self.prof=prof\n",
    "    def details(self):\n",
    "        print(f\"{self.name} is a {self.prof}\")\n",
    "pw=role(\"Sudh\",\"Data Scientist\")\n",
    "pw.details()"
   ]
  },
  {
   "cell_type": "code",
   "execution_count": null,
   "id": "11cca579",
   "metadata": {},
   "outputs": [],
   "source": []
  },
  {
   "cell_type": "markdown",
   "id": "d62ec1d1",
   "metadata": {},
   "source": [
    "8. Discuss the concept of default constructors in Python. When are they used?"
   ]
  },
  {
   "cell_type": "code",
   "execution_count": 16,
   "id": "7833e4ba",
   "metadata": {},
   "outputs": [
    {
     "data": {
      "text/plain": [
       "'Def :A default constructor is a constructor that takes no arguments.\\nIt is used to create an object with default values for its attributes.\\n'"
      ]
     },
     "execution_count": 16,
     "metadata": {},
     "output_type": "execute_result"
    }
   ],
   "source": [
    "\"\"\"Def :A default constructor is a constructor that takes no arguments.\n",
    "It is used to create an object with default values for its attributes.\n",
    "\"\"\""
   ]
  },
  {
   "cell_type": "code",
   "execution_count": null,
   "id": "a902dc79",
   "metadata": {},
   "outputs": [],
   "source": []
  },
  {
   "cell_type": "markdown",
   "id": "9c7fe5bb",
   "metadata": {},
   "source": [
    "9. Create a Python class called `Rectangle` with a constructor that initializes the `width` and `height` attributes. Provide a method to calculate the area of the rectangle."
   ]
  },
  {
   "cell_type": "code",
   "execution_count": 23,
   "id": "44fc128d",
   "metadata": {},
   "outputs": [
    {
     "name": "stdout",
     "output_type": "stream",
     "text": [
      "The area of rectangle is 180 square meter.\n"
     ]
    }
   ],
   "source": [
    "class Rectangle:\n",
    "    def __init__(self,width,height):\n",
    "        self.width=width\n",
    "        self.height=height\n",
    "    def area_of_rectangle(self):\n",
    "        area=self.width*self.height\n",
    "        print(f\"The area of rectangle is {area } square meter.\")\n",
    "pw=Rectangle(12,15)\n",
    "pw.area_of_rectangle()"
   ]
  },
  {
   "cell_type": "code",
   "execution_count": null,
   "id": "5e1b0f85",
   "metadata": {},
   "outputs": [],
   "source": []
  },
  {
   "cell_type": "markdown",
   "id": "dc751e00",
   "metadata": {},
   "source": [
    "10. How can you have multiple constructors in a Python class? Explain with an example."
   ]
  },
  {
   "cell_type": "code",
   "execution_count": 28,
   "id": "7b7c3c57",
   "metadata": {},
   "outputs": [
    {
     "name": "stdout",
     "output_type": "stream",
     "text": [
      "My name is Abdullah and I am 19 years old.\n",
      "My name is sudh and I am 36 years old.\n",
      "My name is Krish and I am 35 years old.\n"
     ]
    }
   ],
   "source": [
    "\"\"\"\n",
    "In Python, you can't have multiple constructors. However, you can simulate multiple constructors by using default argument values and class methods.\n",
    "By providing different class methods to create instances with different sets of parameters, you can achieve the same effect as multiple constructors.\"\"\"\n",
    "class Person:\n",
    "    def __init__(self,name,age):\n",
    "        self.name=name\n",
    "        self.age=age\n",
    "    @classmethod\n",
    "    def create_person_with_name(cls,name):\n",
    "        return cls(name,36)\n",
    "    @classmethod\n",
    "    def create_person_with_age(cls,age):\n",
    "        return cls(\"Krish\",age)\n",
    "    def introduce(self):\n",
    "        print(f\"My name is {self.name} and I am {self.age} years old.\")\n",
    "person1 = Person(\"Abdullah\", 19)\n",
    "person2 = Person.create_person_with_name(\"sudh\")\n",
    "person3 = Person.create_person_with_age(35)\n",
    "\n",
    "person1.introduce()\n",
    "person2.introduce()\n",
    "person3.introduce()"
   ]
  },
  {
   "cell_type": "code",
   "execution_count": null,
   "id": "792d25f9",
   "metadata": {},
   "outputs": [],
   "source": []
  },
  {
   "cell_type": "markdown",
   "id": "f648f21c",
   "metadata": {},
   "source": [
    "11. What is method overloading, and how is it related to constructors in Python?"
   ]
  },
  {
   "cell_type": "markdown",
   "id": "0ee3fe04",
   "metadata": {},
   "source": [
    "\"\"\"\n",
    "Method overloading means having multiple methods in a class with the same name but different ways to use them.\n",
    "In Python you can create similar flexible methods using different techniques.\n",
    "These techniques can also be applied to constructors, which are methods used to create objects. \n",
    "So, you can have constructors with different ways to make objects based on the arguments you provide.\n",
    "\"\"\""
   ]
  },
  {
   "cell_type": "code",
   "execution_count": null,
   "id": "7cae557a",
   "metadata": {},
   "outputs": [],
   "source": []
  },
  {
   "cell_type": "markdown",
   "id": "a8763030",
   "metadata": {},
   "source": [
    "12. Explain the use of the `super()` function in Python constructors. Provide an example."
   ]
  },
  {
   "cell_type": "code",
   "execution_count": 29,
   "id": "8afcaf6a",
   "metadata": {},
   "outputs": [
    {
     "name": "stdout",
     "output_type": "stream",
     "text": [
      "My name is Abdullah and my age is 19\n"
     ]
    }
   ],
   "source": [
    "\"\"\" In python super() is a built in function that used to call a method from parent class with the sub class\"\"\"\n",
    "#EXAMPLE\n",
    "class Parent:\n",
    "    def __init__(self,name):\n",
    "        self.name=name\n",
    "class Child(Parent):\n",
    "    def __init__(self,name,age):\n",
    "        super().__init__(name)\n",
    "        self.age=age\n",
    "child=Child(\"Abdullah\",19)\n",
    "print(f\"My name is {child.name} and my age is {child.age}\")"
   ]
  },
  {
   "cell_type": "code",
   "execution_count": null,
   "id": "e8506efc",
   "metadata": {},
   "outputs": [],
   "source": []
  },
  {
   "cell_type": "markdown",
   "id": "2e04ddcc",
   "metadata": {},
   "source": [
    "13. Create a class called `Book` with a constructor that initializes the `title`, `author`, and `published_year` attributes. Provide a method to display book details."
   ]
  },
  {
   "cell_type": "code",
   "execution_count": 30,
   "id": "3552271f",
   "metadata": {},
   "outputs": [
    {
     "name": "stdout",
     "output_type": "stream",
     "text": [
      "Title :Python\n",
      " Author :SUDH \n",
      "Pub_Year :2023\n"
     ]
    }
   ],
   "source": [
    "class Book:\n",
    "    def __init__(self,title,author,published_year):\n",
    "        self.title=title\n",
    "        self.author=author\n",
    "        self.published_year=published_year\n",
    "    def book_details(self):\n",
    "        print(f\"Title :{self.title}\\n Author :{self.author} \\nPub_Year :{self.published_year}\")\n",
    "pw=Book(\"Python\",\"SUDH\",2023)\n",
    "pw.book_details()"
   ]
  },
  {
   "cell_type": "code",
   "execution_count": null,
   "id": "8fe13055",
   "metadata": {},
   "outputs": [],
   "source": []
  },
  {
   "cell_type": "markdown",
   "id": "5c5196d4",
   "metadata": {},
   "source": [
    "14. Discuss the differences between constructors and regular methods in Python classes."
   ]
  },
  {
   "cell_type": "markdown",
   "id": "3f41286a",
   "metadata": {},
   "source": [
    "\"\"\"\n",
    "Constructors are special methods used for initializing objects when they are created.\n",
    "Regular methods define the behavior and functionality of a class.\n",
    "Constructors are automatically called upon object creation, while regular methods are called explicitly on objects.\n",
    "Constructors typically set up initial attributes, while regular methods perform various tasks.\n",
    "Constructors have the fixed name __init__, while regular methods have user-defined names.\n",
    "\"\"\""
   ]
  },
  {
   "cell_type": "code",
   "execution_count": null,
   "id": "2a896c54",
   "metadata": {},
   "outputs": [],
   "source": []
  },
  {
   "cell_type": "markdown",
   "id": "07ce043b",
   "metadata": {},
   "source": [
    "15. Explain the role of the `self` parameter in instance variable initialization within a constructor."
   ]
  },
  {
   "cell_type": "code",
   "execution_count": 35,
   "id": "d49c5398",
   "metadata": {},
   "outputs": [
    {
     "name": "stdout",
     "output_type": "stream",
     "text": [
      "sudh\n",
      "30\n"
     ]
    }
   ],
   "source": [
    "\"\"\"The self parameter in a constructor refers to the instance being created and is used to initialize the instance's attributes, setting up its initial state.\"\"\"\n",
    "class Person:\n",
    "    def __init__(self, name, age):\n",
    "        \n",
    "        self.name = name  \n",
    "        self.age = age    \n",
    "\n",
    "\n",
    "person1 = Person(\"sudh\", 30)  \n",
    "person2 = Person(\"khan\", 25)    \n",
    "print(person1.name)\n",
    "print(person1.age)\n"
   ]
  },
  {
   "cell_type": "code",
   "execution_count": null,
   "id": "f3caee08",
   "metadata": {},
   "outputs": [],
   "source": []
  },
  {
   "cell_type": "markdown",
   "id": "b437cc52",
   "metadata": {},
   "source": [
    "16. How do you prevent a class from having multiple instances by using constructors in Python? Provide an example."
   ]
  },
  {
   "cell_type": "code",
   "execution_count": 1,
   "id": "3c11411c",
   "metadata": {},
   "outputs": [
    {
     "name": "stdout",
     "output_type": "stream",
     "text": [
      "True\n"
     ]
    }
   ],
   "source": [
    "class Singleton:\n",
    "    _instance = None\n",
    "    def __new__(cls):\n",
    "        if cls._instance is None:\n",
    "            cls._instance = super(Singleton, cls).__new__(cls)\n",
    "        return cls._instance\n",
    "singleton1 = Singleton()\n",
    "singleton2 = Singleton()\n",
    "print(singleton1 is singleton2)  "
   ]
  },
  {
   "cell_type": "code",
   "execution_count": null,
   "id": "24a84466",
   "metadata": {},
   "outputs": [],
   "source": []
  },
  {
   "cell_type": "markdown",
   "id": "82c8e840",
   "metadata": {},
   "source": [
    "17. Create a Python class called `Student` with a constructor that takes a list of subjects as a parameter and initializes the `subjects` attribute."
   ]
  },
  {
   "cell_type": "code",
   "execution_count": 5,
   "id": "0900e014",
   "metadata": {},
   "outputs": [
    {
     "data": {
      "text/plain": [
       "['math', 'phy', 'chem']"
      ]
     },
     "execution_count": 5,
     "metadata": {},
     "output_type": "execute_result"
    }
   ],
   "source": [
    "class Student:\n",
    "    def __init__(self,subjects):\n",
    "        self.subjects=subjects\n",
    "subject_list=[\"math\",\"phy\",\"chem\"]\n",
    "student_subject=Student(subject_list)\n",
    "student_subject.subjects"
   ]
  },
  {
   "cell_type": "code",
   "execution_count": null,
   "id": "16037578",
   "metadata": {},
   "outputs": [],
   "source": []
  },
  {
   "cell_type": "markdown",
   "id": "823797d0",
   "metadata": {},
   "source": [
    "18. What is the purpose of the `__del__` method in Python classes, and how does it relate to constructors?"
   ]
  },
  {
   "cell_type": "code",
   "execution_count": 8,
   "id": "8ae8cf92",
   "metadata": {},
   "outputs": [
    {
     "name": "stdout",
     "output_type": "stream",
     "text": [
      "Object cricket is being destroyed\n"
     ]
    }
   ],
   "source": [
    "\"\"\"\n",
    "The __del__ method in Python is used for defining the finalization behavior of an object, also known as the destructor.\n",
    "It is called when an object is about to be destroyed and deallocated from memory\"\"\"\n",
    "class MyClass:\n",
    "    def __init__(self, name):\n",
    "        self.name = name\n",
    "\n",
    "    def __del__(self):\n",
    "        print(f\"Object {self.name} is being destroyed\")\n",
    "\n",
    "obj1 = MyClass(\"cricket\")\n",
    "del obj1\n"
   ]
  },
  {
   "cell_type": "code",
   "execution_count": null,
   "id": "b310fc92",
   "metadata": {},
   "outputs": [],
   "source": []
  },
  {
   "cell_type": "markdown",
   "id": "ba8596c7",
   "metadata": {},
   "source": [
    "19. Explain the use of constructor chaining in Python. Provide a practical example."
   ]
  },
  {
   "cell_type": "code",
   "execution_count": 9,
   "id": "e1408aa4",
   "metadata": {},
   "outputs": [
    {
     "name": "stdout",
     "output_type": "stream",
     "text": [
      "Name: sudh, Age: 25\n",
      "Name: krish, Age: 0\n"
     ]
    }
   ],
   "source": [
    "\"\"\"Constructor chaining in Python is a technique where one constructor in a class calls another constructor within the same class.\n",
    "This allows you to reuse code for object initialization while customizing behavior based on the provided arguments.\n",
    "It helps avoid redundancy and simplifies object creation.\"\"\"\n",
    "class MyClass:\n",
    "    def __init__(self, name, age=None):\n",
    "        self.name = name\n",
    "        if age is not None:\n",
    "            self.age = age\n",
    "        else:\n",
    "            self.age = 0\n",
    "\n",
    "    def __str__(self):\n",
    "        return f\"Name: {self.name}, Age: {self.age}\"\n",
    "obj1 = MyClass(\"sudh\", 25)\n",
    "obj2 = MyClass(\"krish\")\n",
    "\n",
    "print(obj1)\n",
    "print(obj2)"
   ]
  },
  {
   "cell_type": "code",
   "execution_count": null,
   "id": "1d1a60ec",
   "metadata": {},
   "outputs": [],
   "source": []
  },
  {
   "cell_type": "markdown",
   "id": "0e2389db",
   "metadata": {},
   "source": [
    "20. Create a Python class called `Car` with a default constructor that initializes the `make` and `model` attributes. Provide a method to display car information."
   ]
  },
  {
   "cell_type": "code",
   "execution_count": 10,
   "id": "1cb8d491",
   "metadata": {},
   "outputs": [
    {
     "data": {
      "text/plain": [
       "'make :Toyota,model:corolla'"
      ]
     },
     "execution_count": 10,
     "metadata": {},
     "output_type": "execute_result"
    }
   ],
   "source": [
    "class Car:\n",
    "    def __init__(self,make,model):\n",
    "        self.make=make\n",
    "        self.model=model\n",
    "    def car_info(self):\n",
    "        return f\"make :{self.make},model:{self.model}\"\n",
    "person1=Car(\"Toyota\",\"corolla\")\n",
    "person1.car_info()"
   ]
  },
  {
   "cell_type": "code",
   "execution_count": null,
   "id": "1f60e457",
   "metadata": {},
   "outputs": [],
   "source": []
  },
  {
   "cell_type": "markdown",
   "id": "515aa26b",
   "metadata": {},
   "source": [
    "# Inheritance"
   ]
  },
  {
   "cell_type": "markdown",
   "id": "e1483fa4",
   "metadata": {},
   "source": [
    "1. What is inheritance in Python? Explain its significance in object-oriented programming."
   ]
  },
  {
   "cell_type": "code",
   "execution_count": 1,
   "id": "27a498b4",
   "metadata": {},
   "outputs": [
    {
     "data": {
      "text/plain": [
       "'In Python, inheritance is a feature of object-oriented programming that allows a new class (the \"child\" or \"subclass\") to inherit properties and\\nmethods from an existing class (the \"parent\" or \"base class\").\\nIt promotes code reusability, hierarchical structuring,\\nand the ability to customize or override methods in derived classes'"
      ]
     },
     "execution_count": 1,
     "metadata": {},
     "output_type": "execute_result"
    }
   ],
   "source": [
    "\"\"\"In Python, inheritance is a feature of object-oriented programming that allows a new class (the \"child\" or \"subclass\") to inherit properties and\n",
    "methods from an existing class (the \"parent\" or \"base class\").\n",
    "It promotes code reusability, hierarchical structuring,\n",
    "and the ability to customize or override methods in derived classes\"\"\""
   ]
  },
  {
   "cell_type": "code",
   "execution_count": null,
   "id": "5933f466",
   "metadata": {},
   "outputs": [],
   "source": []
  },
  {
   "cell_type": "markdown",
   "id": "b93b3659",
   "metadata": {},
   "source": [
    "2. Differentiate between single inheritance and multiple inheritance in Python. Provide examples for each"
   ]
  },
  {
   "cell_type": "code",
   "execution_count": null,
   "id": "21f66a2c",
   "metadata": {},
   "outputs": [],
   "source": [
    "\"\"\"\n",
    "Single Inheritance:\n",
    "\n",
    "Involves a class inheriting from only one base class.\n",
    "Promotes simplicity and avoids ambiguity.\n",
    "Easier to understand and maintain.\n",
    "\n",
    "Multiple Inheritance:\n",
    "\n",
    "Involves a class inheriting from multiple base classes.\n",
    "Allows a class to inherit attributes and methods from multiple sources.\n",
    "Can lead to ambiguity and complex hierarchies if not managed carefully.\n",
    "\"\"\"\n",
    "#single inheritance\n",
    "class parent:\n",
    "    def __init__(self, name, occ):\n",
    "        self.name = name\n",
    "        self.occ = occ\n",
    "\n",
    "    def info(self):\n",
    "        print(f\"Name: {self.name} and Occupation: {self.occ}\")\n",
    "\n",
    "class child(parent):\n",
    "    def __init__(self, name, class_name):\n",
    "        super().__init(name, \"Student\")  \n",
    "        self.class_name = class_name\n",
    "\n",
    "    def child_info(self):\n",
    "        print(f\"{self.name} is in class {self.class_name}\")\n",
    "\n",
    "abdullah = child(\"Khan\", \"prep\")\n",
    "abdullah.info()\n",
    "abdullah.child_info()\n",
    "\n",
    "#multiple inheritance\n",
    "class student1:\n",
    "    def __init__(self,name,f_name):\n",
    "        self.name=name\n",
    "        self.f_name=f_name\n",
    "    def st1_info(self):\n",
    "        print(f\"Name :{self.name} and f_name :{self.f_name}\")\n",
    "class student2:\n",
    "    def __init__(self,name,f_name):\n",
    "        self.name=name\n",
    "        self.f_name=f_name\n",
    "    def st2_info(self):\n",
    "        print(f\"name : {self.name} and f_name :{self.f_name}\")\n",
    "class teacher(student1,student2):\n",
    "    def teacher_info(self):\n",
    "        print(\"the teacher has students info \")\n",
    "sudh=teacher(\"Abdullah\",\"Fayyaz\")\n",
    "sudh.st1_info()\n",
    "\n",
    "sudh=teacher(\"kamran\",\"rana\")\n",
    "sudh.st2_info()\n",
    "sudh.teacher_info()\n",
    "\n"
   ]
  },
  {
   "cell_type": "code",
   "execution_count": null,
   "id": "32f01d47",
   "metadata": {},
   "outputs": [],
   "source": []
  },
  {
   "cell_type": "markdown",
   "id": "b2cbdd84",
   "metadata": {},
   "source": [
    "3. Create a Python class called `Vehicle` with attributes `color` and `speed`. Then, create a child class called `Car` that inherits from `Vehicle` and adds a `brand` attribute. Provide an example of creating a `Car` object."
   ]
  },
  {
   "cell_type": "code",
   "execution_count": 2,
   "id": "ca7c774e",
   "metadata": {},
   "outputs": [
    {
     "name": "stdout",
     "output_type": "stream",
     "text": [
      "200\n",
      "Toyota\n",
      "Blue\n"
     ]
    }
   ],
   "source": [
    "class vehicle:\n",
    "    def __init__(self,color,speed):\n",
    "        self.color=color\n",
    "        self.speed=speed\n",
    "class car(vehicle):\n",
    "    def __init__(self,color,speed,brand):\n",
    "        super().__init__(color,speed)\n",
    "        self.brand=brand\n",
    "supra=car(\"Blue\",200,\"Toyota\")\n",
    "print(supra.speed)\n",
    "print(supra.brand)\n",
    "print(supra.color)"
   ]
  },
  {
   "cell_type": "code",
   "execution_count": null,
   "id": "46da7faf",
   "metadata": {},
   "outputs": [],
   "source": []
  },
  {
   "cell_type": "markdown",
   "id": "a88dca41",
   "metadata": {},
   "source": [
    "4. Explain the concept of method overriding in inheritance. Provide a practical example."
   ]
  },
  {
   "cell_type": "code",
   "execution_count": null,
   "id": "464f55c1",
   "metadata": {},
   "outputs": [],
   "source": [
    "\"\"\"Method overriding is a concept in object-oriented programming where a subclass provides its own implementation of a method that is already defined in its parent class.\n",
    "This allows the subclass to customize the behavior of the method, maintaining the method's original interface.\n",
    "It's essential for achieving polymorphism and creating more specialized behavior in subclasses.\"\"\"\"\n",
    "class Animal:\n",
    "    def speak(self):\n",
    "        print(\"This is an animal speaking.\")\n",
    "\n",
    "class Dog(Animal):\n",
    "    def speak(self):\n",
    "        print(\"Woof! This is a dog speaking.\")\n",
    "\n",
    "animal = Animal()\n",
    "dog = Dog()\n",
    "animal.speak()  \n",
    "dog.speak()    \n"
   ]
  },
  {
   "cell_type": "code",
   "execution_count": null,
   "id": "7fd37913",
   "metadata": {},
   "outputs": [],
   "source": []
  },
  {
   "cell_type": "markdown",
   "id": "610ddc27",
   "metadata": {},
   "source": [
    "5. How can you access the methods and attributes of a parent class from a child class in Python? Give an example."
   ]
  },
  {
   "cell_type": "code",
   "execution_count": 4,
   "id": "313df784",
   "metadata": {},
   "outputs": [
    {
     "name": "stdout",
     "output_type": "stream",
     "text": [
      "Abdullah is a data Scientist\n"
     ]
    }
   ],
   "source": [
    "class Parents:\n",
    "    def __init__(self,name,occ):\n",
    "        self.name=name\n",
    "        self.occ=occ\n",
    "    def parent_info(self):\n",
    "        print(f\"{self.name} is a {self.occ}\")\n",
    "class child(Parents):\n",
    "    def child_info(self):\n",
    "        print(\"I can access the parents class\")\n",
    "ahmad=child(\"Abdullah\",\"data Scientist\")\n",
    "ahmad.parent_info()"
   ]
  },
  {
   "cell_type": "code",
   "execution_count": null,
   "id": "fd6d063d",
   "metadata": {},
   "outputs": [],
   "source": []
  },
  {
   "cell_type": "markdown",
   "id": "000e7862",
   "metadata": {},
   "source": [
    "6. Discuss the use of the `super()` function in Python inheritance. When and why is it used? Provide an example."
   ]
  },
  {
   "cell_type": "code",
   "execution_count": 5,
   "id": "236fffbe",
   "metadata": {},
   "outputs": [
    {
     "name": "stdout",
     "output_type": "stream",
     "text": [
      "200\n",
      "Toyota\n",
      "Blue\n"
     ]
    }
   ],
   "source": [
    "\"\"\"Super() function are usually used in inheritance and it is used to get the same info from one class to another\"\"\"\n",
    "#Example\n",
    "class vehicle:\n",
    "    def __init__(self,color,speed):\n",
    "        self.color=color\n",
    "        self.speed=speed\n",
    "class car(vehicle):\n",
    "    def __init__(self,color,speed,brand):\n",
    "        super().__init__(color,speed)\n",
    "        self.brand=brand\n",
    "supra=car(\"Blue\",200,\"Toyota\")\n",
    "print(supra.speed)\n",
    "print(supra.brand)\n",
    "print(supra.color)"
   ]
  },
  {
   "cell_type": "code",
   "execution_count": null,
   "id": "e5830887",
   "metadata": {},
   "outputs": [],
   "source": []
  },
  {
   "cell_type": "markdown",
   "id": "0f2ed168",
   "metadata": {},
   "source": [
    "7. Create a Python class called `Animal` with a method `speak()`. Then, create child classes `Dog` and `Cat` that inherit from `Animal` and override the `speak()` method. Provide an example of using these classes."
   ]
  },
  {
   "cell_type": "code",
   "execution_count": 10,
   "id": "abfd3762",
   "metadata": {},
   "outputs": [
    {
     "name": "stdout",
     "output_type": "stream",
     "text": [
      "Dog speaks :Woof!\n",
      "Cat speaks :meow!\n"
     ]
    }
   ],
   "source": [
    "class Animal:\n",
    "    def speak(self):\n",
    "        pass\n",
    "class Dog(Animal):\n",
    "    def speak(self):\n",
    "        return \"Woof!\"\n",
    "class Cat(Animal):\n",
    "    def speak(self):\n",
    "        return \"meow!\"\n",
    "dog=Dog()\n",
    "cat=Cat()\n",
    "print(f\"Dog speaks :{dog.speak()}\")\n",
    "print(f\"Cat speaks :{cat.speak()}\")\n"
   ]
  },
  {
   "cell_type": "code",
   "execution_count": null,
   "id": "fac929b7",
   "metadata": {},
   "outputs": [],
   "source": []
  },
  {
   "cell_type": "markdown",
   "id": "1b1a2e94",
   "metadata": {},
   "source": [
    "8. Explain the role of the `isinstance()` function in Python and how it relates to inheritance."
   ]
  },
  {
   "cell_type": "code",
   "execution_count": 11,
   "id": "e02cb566",
   "metadata": {},
   "outputs": [
    {
     "data": {
      "text/plain": [
       "'\\nThe isinstance() function in Python checks if an object is an instance of a specified class or one of its subclasses.\\nIt is crucial for handling polymorphism and working with inheritance hierarchies\\nby allowing you to determine the type of an object and perform actions accordingly.\\n'"
      ]
     },
     "execution_count": 11,
     "metadata": {},
     "output_type": "execute_result"
    }
   ],
   "source": [
    "\"\"\"\n",
    "The isinstance() function in Python checks if an object is an instance of a specified class or one of its subclasses.\n",
    "It is crucial for handling polymorphism and working with inheritance hierarchies\n",
    "by allowing you to determine the type of an object and perform actions accordingly.\n",
    "\"\"\""
   ]
  },
  {
   "cell_type": "code",
   "execution_count": null,
   "id": "d1d464e5",
   "metadata": {},
   "outputs": [],
   "source": []
  },
  {
   "cell_type": "markdown",
   "id": "96f33ff4",
   "metadata": {},
   "source": [
    "9. What is the purpose of the `issubclass()` function in Python? Provide an example."
   ]
  },
  {
   "cell_type": "code",
   "execution_count": 12,
   "id": "df0b7fcb",
   "metadata": {},
   "outputs": [
    {
     "name": "stdout",
     "output_type": "stream",
     "text": [
      "True\n"
     ]
    }
   ],
   "source": [
    "\"\"\"The issubclass() function returns True if the specified object is a subclass of the specified object, otherwise False.\"\"\"\n",
    "#Example\n",
    "class Myage:\n",
    "    age=19\n",
    "class myobj(Myage):\n",
    "    name=\"John\"\n",
    "    age=Myage\n",
    "x=issubclass(myobj,Myage)\n",
    "print(x)"
   ]
  },
  {
   "cell_type": "code",
   "execution_count": null,
   "id": "80ca4921",
   "metadata": {},
   "outputs": [],
   "source": []
  },
  {
   "cell_type": "markdown",
   "id": "c34c778c",
   "metadata": {},
   "source": [
    "10. Discuss the concept of constructor inheritance in Python. How are constructors inherited in child classes?"
   ]
  },
  {
   "cell_type": "code",
   "execution_count": 13,
   "id": "725271b1",
   "metadata": {},
   "outputs": [
    {
     "name": "stdout",
     "output_type": "stream",
     "text": [
      "200\n",
      "Toyota\n",
      "Blue\n"
     ]
    }
   ],
   "source": [
    "\"\"\"In Python, constructors are not inherited by child classes by default. Child classes can explicitly call the parent class's constructor using super() to inherit and extend the parent class's constructor behavior.\"\"\"\n",
    "#Example\n",
    "class vehicle:\n",
    "    def __init__(self,color,speed):\n",
    "        self.color=color\n",
    "        self.speed=speed\n",
    "class car(vehicle):\n",
    "    def __init__(self,color,speed,brand):\n",
    "        super().__init__(color,speed)\n",
    "        self.brand=brand\n",
    "supra=car(\"Blue\",200,\"Toyota\")\n",
    "print(supra.speed)\n",
    "print(supra.brand)\n",
    "print(supra.color)"
   ]
  },
  {
   "cell_type": "code",
   "execution_count": null,
   "id": "e98ed871",
   "metadata": {},
   "outputs": [],
   "source": []
  },
  {
   "cell_type": "markdown",
   "id": "9624443b",
   "metadata": {},
   "source": [
    "11. Create a Python class called `Shape` with a method `area()` that calculates the area of a shape. Then, create child classes `Circle` and `Rectangle` that inherit from `Shape` and implement the `area()` method accordingly. Provide an example."
   ]
  },
  {
   "cell_type": "code",
   "execution_count": 14,
   "id": "8f13eb93",
   "metadata": {},
   "outputs": [
    {
     "name": "stdout",
     "output_type": "stream",
     "text": [
      "Circle Area :78.539816\n",
      "Rectangle area :24\n"
     ]
    }
   ],
   "source": [
    "import math\n",
    "class Shape:\n",
    "    def area(self):\n",
    "        pass\n",
    "class Circle(Shape):\n",
    "    def __init__(self,radius):\n",
    "        self.radius=radius\n",
    "    def area(self):\n",
    "        return math.pi*self.radius**2\n",
    "class Rectangle(Shape):\n",
    "    def __init__(self,width,height):\n",
    "        self.width=width\n",
    "        self.height=height\n",
    "    def area(self):\n",
    "        return self.width*self.height\n",
    "circle=Circle(5)\n",
    "rectangle=Rectangle(4,6)\n",
    "print(f\"Circle Area :{circle.area():2f}\")\n",
    "print(f\"Rectangle area :{rectangle.area()}\")"
   ]
  },
  {
   "cell_type": "code",
   "execution_count": null,
   "id": "b8956775",
   "metadata": {},
   "outputs": [],
   "source": []
  },
  {
   "cell_type": "markdown",
   "id": "47b8bcee",
   "metadata": {},
   "source": [
    "12. Explain the use of abstract base classes (ABCs) in Python and how they relate to inheritance. Provide an example using the `abc` module."
   ]
  },
  {
   "cell_type": "code",
   "execution_count": 15,
   "id": "57f5a1e8",
   "metadata": {},
   "outputs": [
    {
     "name": "stdout",
     "output_type": "stream",
     "text": [
      "Circle Area: 78.54\n",
      "Rectangle Area: 24.00\n"
     ]
    }
   ],
   "source": [
    "\"\"\"Abstract Base Classes (ABCs) in Python define a blueprint for classes,\n",
    "specifying mandatory methods that must be implemented by subclasses.\n",
    "They ensure a consistent structure and promote code reliability and maintainability.\n",
    "ABCs relate to inheritance by enforcing a contract that derived classes must follow.\"\"\"\n",
    "#Example\n",
    "from abc import ABC, abstractmethod\n",
    "\n",
    "class Shape(ABC):\n",
    "    @abstractmethod\n",
    "    def area(self):\n",
    "        pass\n",
    "\n",
    "class Circle(Shape):\n",
    "    def __init__(self, radius):\n",
    "        self.radius = radius\n",
    "\n",
    "    def area(self):\n",
    "        return 3.14159 * self.radius**2\n",
    "\n",
    "class Rectangle(Shape):\n",
    "    def __init__(self, width, height):\n",
    "        self.width = width\n",
    "        self.height = height\n",
    "\n",
    "    def area(self):\n",
    "        return self.width * self.height\n",
    "\n",
    "circle = Circle(5)\n",
    "rectangle = Rectangle(4, 6)\n",
    "\n",
    "print(f\"Circle Area: {circle.area():.2f}\")  \n",
    "print(f\"Rectangle Area: {rectangle.area():.2f}\") \n"
   ]
  },
  {
   "cell_type": "code",
   "execution_count": null,
   "id": "3f811e06",
   "metadata": {},
   "outputs": [],
   "source": []
  },
  {
   "cell_type": "markdown",
   "id": "a9debe20",
   "metadata": {},
   "source": [
    "13. How can you prevent a child class from modifying certain attributes or methods inherited from a parent\n",
    "class in Python?"
   ]
  },
  {
   "cell_type": "code",
   "execution_count": 1,
   "id": "eec56603",
   "metadata": {},
   "outputs": [
    {
     "name": "stdout",
     "output_type": "stream",
     "text": [
      "Fayyaz is a bussines man\n",
      "Abdullah has interest in data science\n"
     ]
    }
   ],
   "source": [
    "#There are two ways  private and protected i am using protected\n",
    "class Parent:\n",
    "    def __init__(self,name,occ):\n",
    "        self.__name=name\n",
    "        self.__occ=occ\n",
    "    def parent_info(self):\n",
    "        print(f\"{self.__name} is a {self.__occ}\")\n",
    "class child(Parent):\n",
    "    def __init__(self,ch_name,ch_interest,name,occ):\n",
    "        super().__init__(name,occ)\n",
    "        self.ch_name=ch_name\n",
    "        self.ch_interest=ch_interest\n",
    "    def child_info(self):\n",
    "        print(f\"{self.ch_name} has interest in {self.ch_interest}\")\n",
    "abdullah=child(\"Abdullah\",\"data science\",\"Fayyaz\",\"bussines man\")\n",
    "#child can only access parent_info while name and occ are private variable\n",
    "abdullah.parent_info()\n",
    "abdullah.child_info()"
   ]
  },
  {
   "cell_type": "code",
   "execution_count": null,
   "id": "730b1a7f",
   "metadata": {},
   "outputs": [],
   "source": []
  },
  {
   "cell_type": "markdown",
   "id": "1867622f",
   "metadata": {},
   "source": [
    "14. Create a Python class called `Employee` with attributes `name` and `salary`. Then, create a child class\n",
    "`Manager` that inherits from `Employee` and adds an attribute `department`. Provide an example."
   ]
  },
  {
   "cell_type": "code",
   "execution_count": 2,
   "id": "e8109747",
   "metadata": {},
   "outputs": [
    {
     "name": "stdout",
     "output_type": "stream",
     "text": [
      "sudh salary is 2.5cr\n"
     ]
    }
   ],
   "source": [
    "class Employee:\n",
    "    def __init__(self,name,salary):\n",
    "        self.name=name\n",
    "        self.salary=salary\n",
    "    def emp_info(self):\n",
    "        print(f\"{self.name} salary is {self.salary}\")\n",
    "class Manager(Employee):\n",
    "    def __init__(self,department,name,salary):\n",
    "        super().__init__(name, salary)\n",
    "        self.department=department\n",
    "    def info(self):\n",
    "        print(f\"{self.name} is from {self.department}\")\n",
    "abdullah=Manager(\"IT\",\"sudh\",\"2.5cr\")\n",
    "abdullah.emp_info()"
   ]
  },
  {
   "cell_type": "code",
   "execution_count": null,
   "id": "0ac5e36f",
   "metadata": {},
   "outputs": [],
   "source": []
  },
  {
   "cell_type": "markdown",
   "id": "993e1fc8",
   "metadata": {},
   "source": [
    "15. Discuss the concept of method overloading in Python inheritance. How does it differ from method\n",
    "overriding?"
   ]
  },
  {
   "cell_type": "code",
   "execution_count": 3,
   "id": "f45db69e",
   "metadata": {},
   "outputs": [
    {
     "data": {
      "text/plain": [
       "'\\nDifference Between Method Overloading and Method Overriding in Python.\\nIn the process of method overloading, all the functions or methods must contain the same name with varied signatures.\\nIn the process of method overriding, all the functions or methods must possess the very same name along with similar signatures\\n'"
      ]
     },
     "execution_count": 3,
     "metadata": {},
     "output_type": "execute_result"
    }
   ],
   "source": [
    "\"\"\"\n",
    "Difference Between Method Overloading and Method Overriding in Python.\n",
    "In the process of method overloading, all the functions or methods must contain the same name with varied signatures.\n",
    "In the process of method overriding, all the functions or methods must possess the very same name along with similar signatures\n",
    "\"\"\""
   ]
  },
  {
   "cell_type": "code",
   "execution_count": null,
   "id": "bd2d0511",
   "metadata": {},
   "outputs": [],
   "source": []
  },
  {
   "cell_type": "markdown",
   "id": "aaa668d2",
   "metadata": {},
   "source": [
    "16. Explain the purpose of the `__init__()` method in Python inheritance and how it is utilized in child classes."
   ]
  },
  {
   "cell_type": "code",
   "execution_count": 4,
   "id": "4e86faff",
   "metadata": {},
   "outputs": [
    {
     "data": {
      "text/plain": [
       "\"\\nin python by the use of __init__ we can use multiple atributes in the class.\\nThe __init__ method lets the class initialize the object's attributes and serves no other purpose.\\n\""
      ]
     },
     "execution_count": 4,
     "metadata": {},
     "output_type": "execute_result"
    }
   ],
   "source": [
    "\"\"\"\n",
    "in python by the use of __init__ we can use multiple atributes in the class.\n",
    "The __init__ method lets the class initialize the object's attributes and serves no other purpose.\n",
    "\"\"\""
   ]
  },
  {
   "cell_type": "code",
   "execution_count": null,
   "id": "09f2c2fd",
   "metadata": {},
   "outputs": [],
   "source": []
  },
  {
   "cell_type": "markdown",
   "id": "32cf9f9a",
   "metadata": {},
   "source": [
    "17. Create a Python class called `Bird` with a method `fly()`. Then, create child classes `Eagle` and `Sparrow` that inherit from `Bird` and implement the `fly()` method differently. Provide an example of using these\n",
    "classes."
   ]
  },
  {
   "cell_type": "code",
   "execution_count": 5,
   "id": "9769f274",
   "metadata": {},
   "outputs": [
    {
     "name": "stdout",
     "output_type": "stream",
     "text": [
      "The color of eagle is black\n",
      "The voice of sparrow is sweet and plasent\n"
     ]
    }
   ],
   "source": [
    "class Bird:\n",
    "    def fly(self):\n",
    "        pass\n",
    "class Eagle(Bird):\n",
    "    def fly(self):\n",
    "        return \"The color of eagle is black\"\n",
    "class Sparrow(Bird):\n",
    "    def fly(self):\n",
    "        print(\"The voice of sparrow is sweet and plasent\")\n",
    "eagle=Eagle()\n",
    "print(eagle.fly())\n",
    "sparrow=Sparrow()\n",
    "sparrow.fly()"
   ]
  },
  {
   "cell_type": "code",
   "execution_count": null,
   "id": "6e548b3a",
   "metadata": {},
   "outputs": [],
   "source": []
  },
  {
   "cell_type": "markdown",
   "id": "8d277249",
   "metadata": {},
   "source": [
    "18. What is the \"diamond problem\" in multiple inheritance, and how does Python address it?"
   ]
  },
  {
   "cell_type": "code",
   "execution_count": 6,
   "id": "804316c0",
   "metadata": {},
   "outputs": [
    {
     "name": "stdout",
     "output_type": "stream",
     "text": [
      "B\n"
     ]
    }
   ],
   "source": [
    "\"\"\" diamond problem can arise when two classes (class 2 and 3) inherit from class 1 and subsequently, class 4 inherits from both, class 2 and class 3\"\"\"\n",
    "#Example\n",
    "class A:\n",
    "    def show(self):\n",
    "        print(\"A\")\n",
    "\n",
    "class B(A):\n",
    "    def show(self):\n",
    "        print(\"B\")\n",
    "\n",
    "class C(A):\n",
    "    def show(self):\n",
    "        print(\"C\")\n",
    "\n",
    "class D(B, C):\n",
    "    pass\n",
    "\n",
    "d = D()\n",
    "d.show()\n"
   ]
  },
  {
   "cell_type": "code",
   "execution_count": null,
   "id": "24b7403b",
   "metadata": {},
   "outputs": [],
   "source": []
  },
  {
   "cell_type": "markdown",
   "id": "7a50a1ea",
   "metadata": {},
   "source": [
    "19. Discuss the concept of \"is-a\" and \"has-a\" relationships in inheritance, and provide examples of each."
   ]
  },
  {
   "cell_type": "code",
   "execution_count": 7,
   "id": "d03d05f5",
   "metadata": {},
   "outputs": [
    {
     "name": "stdout",
     "output_type": "stream",
     "text": [
      "Engine started\n",
      "Car is driving\n"
     ]
    }
   ],
   "source": [
    "\"\"\"Whenever one class inherits another class, it is called an IS-A relationship.\n",
    "Has-A relationship: Whenever an instance of one class is used in another class, it is called HAS-A relationship.\"\"\"\n",
    "#IS_A example\n",
    "class Vehicle:\n",
    "    def start_engine(self):\n",
    "        print(\"Engine started\")\n",
    "\n",
    "class Car(Vehicle):\n",
    "    def drive(self):\n",
    "        print(\"Car is driving\")\n",
    "\n",
    "my_car = Car()\n",
    "my_car.start_engine()  \n",
    "my_car.drive()\n",
    "\n",
    "#HAS_A example\n",
    "class Engine:\n",
    "    def start(self):\n",
    "        return \"Engine started\"\n",
    "\n",
    "class Car:\n",
    "    def __init__(self):\n",
    "        self.engine = Engine()\n",
    "\n",
    "    def start(self):\n",
    "        return self.engine.start()\n"
   ]
  },
  {
   "cell_type": "code",
   "execution_count": null,
   "id": "af052130",
   "metadata": {},
   "outputs": [],
   "source": []
  },
  {
   "cell_type": "markdown",
   "id": "2a4e0c57",
   "metadata": {},
   "source": [
    "20. Create a Python class hierarchy for a university system. Start with a base class `Person` and create child\n",
    "classes `Student` and `Professor`, each with their own attributes and methods. Provide an example of using\n",
    "these classes in a university context."
   ]
  },
  {
   "cell_type": "code",
   "execution_count": 8,
   "id": "beba0d68",
   "metadata": {},
   "outputs": [
    {
     "name": "stdout",
     "output_type": "stream",
     "text": [
      "Subject :Python and Interest :Data Science\n",
      "Topic :Python and Timing :9am\n"
     ]
    }
   ],
   "source": [
    "class Person:\n",
    "    def __init__(self,name,age):\n",
    "        self.name=name\n",
    "        self.age=age\n",
    "    def person_info(self):\n",
    "        print(f\"i am {self.name} and my age is {self.age}\")\n",
    "class Student(Person):\n",
    "    def __init__(self,name,age,subject,interest):\n",
    "        super().__init__(name,age)\n",
    "        self.subject=subject\n",
    "        self.interest=interest\n",
    "    def student_info(self):\n",
    "        print(f\"Subject :{self.subject} and Interest :{self.interest}\")\n",
    "class Professor(Person):\n",
    "    def __init__(self,name,age,topic,timing):\n",
    "        super().__init__(name,age)\n",
    "        self.topic=topic\n",
    "        self.timing=timing\n",
    "    def prof_info(self):\n",
    "        print(f\"Topic :{self.topic} and Timing :{self.timing}\")\n",
    "student1=Student(\"abdullah\",19,\"Python\",\"Data Science\")\n",
    "student1.student_info()\n",
    "profesor1=Professor(\"sudh\",40,\"Python\",\"9am\")\n",
    "profesor1.prof_info()\n"
   ]
  },
  {
   "cell_type": "code",
   "execution_count": null,
   "id": "f0e048ba",
   "metadata": {},
   "outputs": [],
   "source": []
  },
  {
   "cell_type": "markdown",
   "id": "8ce8e503",
   "metadata": {},
   "source": [
    "# Encapsulation"
   ]
  },
  {
   "cell_type": "markdown",
   "id": "f6df52ae",
   "metadata": {},
   "source": [
    "1. Explain the concept of encapsulation in Python. What is its role in object-oriented programming?"
   ]
  },
  {
   "cell_type": "code",
   "execution_count": 2,
   "id": "4ffd03e6",
   "metadata": {},
   "outputs": [],
   "source": [
    "\"\"\"Encapsulation refers to the bundling of attributes and methods inside a single class.\n",
    "It prevents outer classes from accessing and changing attributes and methods of a class.\n",
    "This also helps to achieve data hiding.\n",
    "In Python, we denote private attributes using underscore as the prefix\"\"\"\n",
    "#Example\n",
    "# in private atttributes we use double underscore\n",
    "__accountbalance\n",
    "# in protected atribute we use sigle under score\n",
    "_accountbalnce"
   ]
  },
  {
   "cell_type": "code",
   "execution_count": null,
   "id": "f9da917b",
   "metadata": {},
   "outputs": [],
   "source": []
  },
  {
   "cell_type": "markdown",
   "id": "bde0194f",
   "metadata": {},
   "source": [
    "2. Describe the key principles of encapsulation, including access control and data hiding."
   ]
  },
  {
   "cell_type": "code",
   "execution_count": 3,
   "id": "6d61dd95",
   "metadata": {},
   "outputs": [
    {
     "data": {
      "text/plain": [
       "'\\nEncapsulation is a way to restrict the direct access to some components of an object, \\nso users cannot access state values for all of the variables of a particular object.\\nEncapsulation can be used to hide both data members and data functions or methods associated with an instantiated class or object\\n'"
      ]
     },
     "execution_count": 3,
     "metadata": {},
     "output_type": "execute_result"
    }
   ],
   "source": [
    "\"\"\"\n",
    "Encapsulation is a way to restrict the direct access to some components of an object, \n",
    "so users cannot access state values for all of the variables of a particular object.\n",
    "Encapsulation can be used to hide both data members and data functions or methods associated with an instantiated class or object\n",
    "\"\"\""
   ]
  },
  {
   "cell_type": "code",
   "execution_count": null,
   "id": "5f8cfb32",
   "metadata": {},
   "outputs": [],
   "source": []
  },
  {
   "cell_type": "markdown",
   "id": "9b46180a",
   "metadata": {},
   "source": [
    "3. How can you achieve encapsulation in Python classes? Provide an example."
   ]
  },
  {
   "cell_type": "code",
   "execution_count": 4,
   "id": "1e0bfc1a",
   "metadata": {},
   "outputs": [
    {
     "name": "stdout",
     "output_type": "stream",
     "text": [
      "2000\n"
     ]
    }
   ],
   "source": [
    "class Bank:\n",
    "    def __init__(self, balance):\n",
    "        self.__balance = balance\n",
    "\n",
    "    def deposit(self, amount):\n",
    "        self.__balance = self.__balance + amount\n",
    "\n",
    "    def withdraw(self, amount):\n",
    "        self.__balance = self.__balance - amount\n",
    "\n",
    "    def total_balance(self):\n",
    "        return self.__balance\n",
    "\n",
    "sudh = Bank(1000)\n",
    "sudh.deposit(1000)\n",
    "print(sudh.total_balance())"
   ]
  },
  {
   "cell_type": "code",
   "execution_count": null,
   "id": "467ffeb3",
   "metadata": {},
   "outputs": [],
   "source": []
  },
  {
   "cell_type": "markdown",
   "id": "c11c9211",
   "metadata": {},
   "source": [
    "4. Discuss the difference between public, private, and protected access modifiers in Python."
   ]
  },
  {
   "cell_type": "code",
   "execution_count": 5,
   "id": "1dd5cc75",
   "metadata": {},
   "outputs": [
    {
     "data": {
      "text/plain": [
       "'\\n#public\\nin public variable we can assess from any where in the class by simple using atribute name\\n#private\\nin private we can access the modefiers by using _underscore \\n#private \\nthe private variable cannot be accesed by every person they have to use class name first then double inderscore example (_class.__bankbalance) \\n'"
      ]
     },
     "execution_count": 5,
     "metadata": {},
     "output_type": "execute_result"
    }
   ],
   "source": [
    "\"\"\"\n",
    "#public\n",
    "in public variable we can assess from any where in the class by simple using atribute name\n",
    "#private\n",
    "in private variable we can access the modefiers by using _underscore \n",
    "#private \n",
    "the private variable cannot be accesed by every person they have to use class name first then double inderscore example (_class.__bankbalance) \n",
    "\"\"\""
   ]
  },
  {
   "cell_type": "code",
   "execution_count": null,
   "id": "02bf1be7",
   "metadata": {},
   "outputs": [],
   "source": []
  },
  {
   "cell_type": "markdown",
   "id": "c45cf627",
   "metadata": {},
   "source": [
    "5. Create a Python class called `Person` with a private attribute `__name`. Provide methods to get and set the\n",
    "name attribute."
   ]
  },
  {
   "cell_type": "code",
   "execution_count": 8,
   "id": "a29d8c15",
   "metadata": {},
   "outputs": [
    {
     "name": "stdout",
     "output_type": "stream",
     "text": [
      "sudh\n"
     ]
    }
   ],
   "source": [
    "class Person:\n",
    "    def __init__(self,name):\n",
    "        self.__name=name\n",
    "    def get_name(self):\n",
    "        return self.__name\n",
    "    def set_name(self,new_name):\n",
    "        self.__name=new_name\n",
    "person=Person(\"Abdullah\")\n",
    "person.set_name(\"sudh\")\n",
    "print(person.get_name())"
   ]
  },
  {
   "cell_type": "code",
   "execution_count": null,
   "id": "b74086c3",
   "metadata": {},
   "outputs": [],
   "source": []
  },
  {
   "cell_type": "markdown",
   "id": "332d5a20",
   "metadata": {},
   "source": [
    "6. Explain the purpose of getter and setter methods in encapsulation. Provide examples."
   ]
  },
  {
   "cell_type": "code",
   "execution_count": 1,
   "id": "22263596",
   "metadata": {},
   "outputs": [
    {
     "data": {
      "text/plain": [
       "'\\nThe getter methods (e.g., getName()) allow other classes to retrieve the values of the private variables.\\nThe setter methods (e.g., setName()) allow other classes to modify the values of the private variables\\n'"
      ]
     },
     "execution_count": 1,
     "metadata": {},
     "output_type": "execute_result"
    }
   ],
   "source": [
    "\"\"\"\n",
    "The getter methods (e.g., getName()) allow other classes to retrieve the values of the private variables.\n",
    "The setter methods (e.g., setName()) allow other classes to modify the values of the private variables\n",
    "\"\"\""
   ]
  },
  {
   "cell_type": "code",
   "execution_count": null,
   "id": "db649f85",
   "metadata": {},
   "outputs": [],
   "source": []
  },
  {
   "cell_type": "markdown",
   "id": "d4805b92",
   "metadata": {},
   "source": [
    "7. What is name mangling in Python, and how does it affect encapsulation?"
   ]
  },
  {
   "cell_type": "code",
   "execution_count": null,
   "id": "76c6bdda",
   "metadata": {},
   "outputs": [],
   "source": [
    "\"\"\"\n",
    "Name mangling in Python is a technique that adds a double underscore prefix to attribute names to make them less accessible from outside a class. \n",
    "It helps prevent naming conflicts in subclasses and serves as a naming convention for encapsulation but is not a strict security measure.\n",
    "\"\"\"\n",
    "class Student: \n",
    "    def __init__(self, name): \n",
    "        self.__name = name \n",
    "\n",
    "    def displayName(self): \n",
    "        print(self.__name) \n",
    "\n",
    "s1 = Student(\"Santhosh\") \n",
    "s1.displayName() \n",
    " \n",
    "print(s1.__name) #it five error\n"
   ]
  },
  {
   "cell_type": "code",
   "execution_count": null,
   "id": "2640d541",
   "metadata": {},
   "outputs": [],
   "source": []
  },
  {
   "cell_type": "markdown",
   "id": "d54cac8d",
   "metadata": {},
   "source": [
    "8. Create a Python class called `BankAccount` with private attributes for the account balance (`__balance`)\n",
    "and account number (__accountnumber).provide for depositing and withdraw money."
   ]
  },
  {
   "cell_type": "code",
   "execution_count": 2,
   "id": "4e021714",
   "metadata": {},
   "outputs": [
    {
     "name": "stdout",
     "output_type": "stream",
     "text": [
      "1000\n",
      "1500\n"
     ]
    }
   ],
   "source": [
    "class BankAccount:\n",
    "    def __init__(self,balance,account_number):\n",
    "        self.__balance=balance\n",
    "        self.__account_number=account_number\n",
    "    def deposit(self,amount):\n",
    "        self.__balance=self.__balance+amount\n",
    "    def with_draw(self,amount):\n",
    "        self.__balance=self.__balance-amount\n",
    "    def current_balance(self):\n",
    "        return self.__balance\n",
    "person=BankAccount(1000,2161008)\n",
    "print(person.current_balance())\n",
    "person.deposit(2000)\n",
    "person.with_draw(1500)\n",
    "print(person.current_balance())\n",
    "# person.account_number()#we cannot access account number by this method"
   ]
  },
  {
   "cell_type": "code",
   "execution_count": null,
   "id": "287763c0",
   "metadata": {},
   "outputs": [],
   "source": []
  },
  {
   "cell_type": "markdown",
   "id": "33238972",
   "metadata": {},
   "source": [
    "9. Discuss the advantages of encapsulation in terms of code maintainability and security."
   ]
  },
  {
   "cell_type": "code",
   "execution_count": null,
   "id": "124534dd",
   "metadata": {},
   "outputs": [],
   "source": [
    "\"\"\"\n",
    "Code Maintainability: Encapsulation organizes code by restricting access to data and providing controlled interfaces.\n",
    "This makes it easier to understand, modify, and maintain code.\n",
    "\n",
    "Security: Encapsulation helps protect data by hiding internal implementation details.\n",
    "It restricts unauthorized access and reduces the risk of unintended modifications or errors in the code.\n",
    "\"\"\""
   ]
  },
  {
   "cell_type": "code",
   "execution_count": null,
   "id": "2d44bce9",
   "metadata": {},
   "outputs": [],
   "source": []
  },
  {
   "cell_type": "markdown",
   "id": "3747cb48",
   "metadata": {},
   "source": [
    "10. How can you access private attributes in Python? Provide an example demonstrating the use of name\n",
    "mangling."
   ]
  },
  {
   "cell_type": "code",
   "execution_count": 10,
   "id": "12503644",
   "metadata": {},
   "outputs": [
    {
     "name": "stdout",
     "output_type": "stream",
     "text": [
      "Santhosh\n",
      "Santhosh\n"
     ]
    }
   ],
   "source": [
    "#we can access private attribute by usind eg,s1._Student__name\n",
    "class Student: \n",
    "    def __init__(self, name): \n",
    "        self.__name = name \n",
    "\n",
    "    def displayName(self): \n",
    "        print(self.__name) \n",
    "\n",
    "s1 = Student(\"Abdullah\") \n",
    "s1.displayName() \n",
    "print(s1._Student__name)#This is how we access private atribute\n",
    "# print(s1.__name) #it give error"
   ]
  },
  {
   "cell_type": "code",
   "execution_count": null,
   "id": "12c29445",
   "metadata": {},
   "outputs": [],
   "source": []
  },
  {
   "cell_type": "markdown",
   "id": "7a5c460b",
   "metadata": {},
   "source": [
    "11. Create a Python class hierarchy for a school system, including classes for students, teachers, and courses,\n",
    "and implement encapsulation principles to protect sensitive information."
   ]
  },
  {
   "cell_type": "code",
   "execution_count": 11,
   "id": "41dd610a",
   "metadata": {},
   "outputs": [
    {
     "name": "stdout",
     "output_type": "stream",
     "text": [
      "Abdullah\n",
      "['python', 'DSA']\n"
     ]
    }
   ],
   "source": [
    "class Person:\n",
    "    def __init__(self,name,age,id_number):\n",
    "        self.__name=name\n",
    "        self.__age=age\n",
    "        self.__id_number=id_number\n",
    "    def get_name(self):\n",
    "        return self.__name\n",
    "    def get_age(self):\n",
    "        return self.__age\n",
    "    def get_id_number(self):\n",
    "        return self.__id_number\n",
    "class Student(Person):\n",
    "    def __init__(self,name,age,id_number,student_id,courses):\n",
    "        super().__init__(name,age,id_number)\n",
    "        self.__student_id=student_id\n",
    "        self.__courses=courses\n",
    "    def get_student_id(self):\n",
    "        return self.get_student_id\n",
    "    def get_courses(self):\n",
    "        return self.__courses\n",
    "class Teacher(Person):\n",
    "    def __init__(self,name,age,id_number,employee_id,courses_taught):\n",
    "        super().__init__(name,age,id_number)\n",
    "        self.__employee_id=employee_id\n",
    "        self.__courses_taught=courses_taught\n",
    "    def get_employee_id(self):\n",
    "        return self.__employee_id\n",
    "    def get_courses_taught(self):\n",
    "        return self.__courses_taught\n",
    "class Course:\n",
    "    def __init__(self, course_code, course_name, course_description):\n",
    "        self.__course_code = course_code\n",
    "        self.__course_name = course_name\n",
    "        self.__course_description = course_description\n",
    "\n",
    "    def get_course_code(self):\n",
    "        return self.__course_code\n",
    "\n",
    "    def get_course_name(self):\n",
    "        return self.__course_name\n",
    "\n",
    "    def get_course_description(self):\n",
    "        return self.__course_description\n",
    "\n",
    "student=Student(\"Abdullah\",20,\"2161008\",\"s123\",[\"python\",\"DSA\"])\n",
    "print(student.get_name())\n",
    "print(student.get_courses())"
   ]
  },
  {
   "cell_type": "code",
   "execution_count": null,
   "id": "542e1c59",
   "metadata": {},
   "outputs": [],
   "source": []
  },
  {
   "cell_type": "markdown",
   "id": "bda860f7",
   "metadata": {},
   "source": [
    "13. What is data hiding, and why is it important in encapsulation? Provide examples."
   ]
  },
  {
   "cell_type": "code",
   "execution_count": 14,
   "id": "de7e0056",
   "metadata": {},
   "outputs": [
    {
     "name": "stdout",
     "output_type": "stream",
     "text": [
      "20\n"
     ]
    },
    {
     "data": {
      "text/plain": [
       "25"
      ]
     },
     "execution_count": 14,
     "metadata": {},
     "output_type": "execute_result"
    }
   ],
   "source": [
    "\"\"\"Data hiding in encapsulation involves making attributes private and controlling access through methods.\n",
    "It's important for control, flexibility, and security.\n",
    "For example, using getter and setter methods to access and modify sensitive data in a class.\"\"\"\n",
    "#Example\n",
    "class Person:\n",
    "    def __init__(self, name, age):\n",
    "        self.__name = name\n",
    "        self.__age = age\n",
    "\n",
    "    def get_age(self):\n",
    "        return self.__age\n",
    "\n",
    "    def set_age(self, new_age):\n",
    "        if new_age >= 0:\n",
    "            self.__age = new_age\n",
    "\n",
    "person = Person(\"Abdullah\", 20)\n",
    "print(person.get_age())\n",
    "person.set_age(25)  \n",
    "person.get_age()"
   ]
  },
  {
   "cell_type": "code",
   "execution_count": null,
   "id": "f5663b4e",
   "metadata": {},
   "outputs": [],
   "source": []
  },
  {
   "cell_type": "markdown",
   "id": "b16ad794",
   "metadata": {},
   "source": [
    "14. Create a Python class called `Employee` with private attributes for salary (`__salary`) and employee ID\n",
    "(__Employee_id).provide a method to calaculate yearly bonus."
   ]
  },
  {
   "cell_type": "code",
   "execution_count": 15,
   "id": "56c19fbc",
   "metadata": {},
   "outputs": [
    {
     "name": "stdout",
     "output_type": "stream",
     "text": [
      "25000.0\n"
     ]
    }
   ],
   "source": [
    "class Employee:\n",
    "    def __init__(self,employee_id,salary):\n",
    "        self.__salary=salary\n",
    "        self.__employee_id=employee_id\n",
    "    def yearly_bonus(self,percentage):\n",
    "        bonus=(percentage/100) * self.__salary\n",
    "        return bonus\n",
    "employee=Employee(\"s12233\",50000)\n",
    "print(employee.yearly_bonus(50))"
   ]
  },
  {
   "cell_type": "code",
   "execution_count": null,
   "id": "c10a67ee",
   "metadata": {},
   "outputs": [],
   "source": []
  },
  {
   "cell_type": "markdown",
   "id": "ed1cf092",
   "metadata": {},
   "source": [
    "15. Discuss the use of accessors and mutators in encapsulation. How do they help maintain control over\n",
    "attribute access?"
   ]
  },
  {
   "cell_type": "code",
   "execution_count": 16,
   "id": "89a7fd9a",
   "metadata": {},
   "outputs": [
    {
     "data": {
      "text/plain": [
       "'\\nAccessors (getters) provide controlled access to attribute values, while mutators (setters) allow modification.\\nThey maintain control over attribute access by encapsulating attributes, enforcing constraints, enhancing security, ensuring consistency, and providing flexibility in software development.'"
      ]
     },
     "execution_count": 16,
     "metadata": {},
     "output_type": "execute_result"
    }
   ],
   "source": [
    "\"\"\"\n",
    "Accessors (getters) provide controlled access to attribute values, while mutators (setters) allow modification.\n",
    "They maintain control over attribute access by encapsulating attributes, enforcing constraints, enhancing security, ensuring consistency, and providing flexibility in software development.\"\"\""
   ]
  },
  {
   "cell_type": "code",
   "execution_count": null,
   "id": "e4fa32e1",
   "metadata": {},
   "outputs": [],
   "source": []
  },
  {
   "cell_type": "markdown",
   "id": "7d14a4a7",
   "metadata": {},
   "source": [
    "16. What are the potential drawbacks or disadvantages of using encapsulation in Python?"
   ]
  },
  {
   "cell_type": "code",
   "execution_count": 17,
   "id": "409f258d",
   "metadata": {},
   "outputs": [
    {
     "data": {
      "text/plain": [
       "'\\nComplexity: Overuse of encapsulation can lead to overly complex code.\\nPerformance: Accessors and mutators can introduce some performance overhead.\\nBoilerplate Code: Writing getter and setter methods can result in more code.\\nReduced Accessibility: Overuse of encapsulation can make it challenging to access and modify data for legitimate use cases.\\nLearning Curve: Encapsulation can be confusing for beginners or those new to the codebase.\\n'"
      ]
     },
     "execution_count": 17,
     "metadata": {},
     "output_type": "execute_result"
    }
   ],
   "source": [
    "\"\"\"\n",
    "Complexity: Overuse of encapsulation can lead to overly complex code.\n",
    "Performance: Accessors and mutators can introduce some performance overhead.\n",
    "Boilerplate Code: Writing getter and setter methods can result in more code.\n",
    "Reduced Accessibility: Overuse of encapsulation can make it challenging to access and modify data for legitimate use cases.\n",
    "Learning Curve: Encapsulation can be confusing for beginners or those new to the codebase.\n",
    "\"\"\""
   ]
  },
  {
   "cell_type": "code",
   "execution_count": null,
   "id": "45e03bad",
   "metadata": {},
   "outputs": [],
   "source": []
  },
  {
   "cell_type": "markdown",
   "id": "049502ba",
   "metadata": {},
   "source": [
    "17. Create a Python class for a library system that encapsulates book information, including titles, authors,\n",
    "and availability status."
   ]
  },
  {
   "cell_type": "code",
   "execution_count": 19,
   "id": "63f6ca19",
   "metadata": {},
   "outputs": [
    {
     "name": "stdout",
     "output_type": "stream",
     "text": [
      "Title: Rich DAD\n",
      "Author: SUDH\n",
      "Available: True\n",
      "Book borrowed successfully.\n",
      "Available: False\n",
      "Book returned.\n",
      "Available: True\n"
     ]
    }
   ],
   "source": [
    "class Book:\n",
    "    def __init__(self, title, author):\n",
    "        self.__title = title\n",
    "        self.__author = author\n",
    "        self.__available = True\n",
    "\n",
    "    def get_title(self):\n",
    "        return self.__title\n",
    "\n",
    "    def get_author(self):\n",
    "        return self.__author\n",
    "\n",
    "    def is_available(self):\n",
    "        return self.__available\n",
    "\n",
    "    def borrow_book(self):\n",
    "        if self.__available:\n",
    "            self.__available = False\n",
    "            return True\n",
    "        else:\n",
    "            return False\n",
    "\n",
    "    def return_book(self):\n",
    "        if not self.__available:\n",
    "            self.__available = True\n",
    "\n",
    "book1 = Book(\"Rich DAD\", \"SUDH\")\n",
    "book2 = Book(\"PYTHON\", \"PW SKILLS\")\n",
    "\n",
    "print(f\"Title: {book1.get_title()}\")\n",
    "print(f\"Author: {book1.get_author()}\")\n",
    "print(f\"Available: {book1.is_available()}\")\n",
    "\n",
    "if book1.borrow_book():\n",
    "    print(\"Book borrowed successfully.\")\n",
    "else:\n",
    "    print(\"Book is not available for borrowing.\")\n",
    "\n",
    "print(f\"Available: {book1.is_available()}\")\n",
    "\n",
    "book1.return_book()\n",
    "print(\"Book returned.\")\n",
    "\n",
    "print(f\"Available: {book1.is_available()}\")\n",
    "\n"
   ]
  },
  {
   "cell_type": "code",
   "execution_count": null,
   "id": "c2f02c4c",
   "metadata": {},
   "outputs": [],
   "source": []
  },
  {
   "cell_type": "markdown",
   "id": "1a0e0099",
   "metadata": {},
   "source": []
  },
  {
   "cell_type": "code",
   "execution_count": 20,
   "id": "5d556d9c",
   "metadata": {},
   "outputs": [
    {
     "data": {
      "text/plain": [
       "'Information hiding in encapsulation is the practice of concealing the internal details of a class or module, exposing only a well-defined interface.\\nIt is essential in software development because it simplifies understanding, enhances security, promotes modularity, and improves maintainability, collaboration, and flexibility in a codebase.'"
      ]
     },
     "execution_count": 20,
     "metadata": {},
     "output_type": "execute_result"
    }
   ],
   "source": [
    "\"\"\"Information hiding in encapsulation is the practice of concealing the internal details of a class or module, exposing only a well-defined interface.\n",
    "It is essential in software development because it simplifies understanding, enhances security, promotes modularity, and improves maintainability, collaboration, and flexibility in a codebase.\"\"\""
   ]
  },
  {
   "cell_type": "code",
   "execution_count": null,
   "id": "d21cd183",
   "metadata": {},
   "outputs": [],
   "source": []
  },
  {
   "cell_type": "markdown",
   "id": "635c0b2d",
   "metadata": {},
   "source": [
    "20. Create a Python class called `Customer` with private attributes for customer details like name, address,\n",
    "and contact information. Implement encapsulation to ensure data integrity and security."
   ]
  },
  {
   "cell_type": "code",
   "execution_count": 1,
   "id": "05d38429",
   "metadata": {},
   "outputs": [
    {
     "name": "stdout",
     "output_type": "stream",
     "text": [
      "123456765\n",
      "h#17 st#24 lahore\n",
      "SUDH\n"
     ]
    }
   ],
   "source": [
    "class Customer:\n",
    "    def __init__(self,name,address,contact_info):\n",
    "        self._name=name\n",
    "        self._address=address\n",
    "        self._contact_info=contact_info\n",
    "    def get_name(self):\n",
    "        return self._name\n",
    "    def set_name(self,name):\n",
    "        self._name=name\n",
    "    def get_address(self):\n",
    "        return self._address\n",
    "    def set_address(self,address):\n",
    "        self._address=address\n",
    "    def get_contact_info(self):\n",
    "        return self._contact_info\n",
    "    def set_contact_info(self,contact_info):\n",
    "        self._contact_info=contact_info\n",
    "\n",
    "abdullah=Customer(\"Abdullah\",\"h#17 st#24 lahore\",123456765)\n",
    "print(abdullah.get_contact_info())\n",
    "print(abdullah.get_address())\n",
    "abdullah.set_name(\"SUDH\")\n",
    "print(abdullah.get_name())\n"
   ]
  },
  {
   "cell_type": "markdown",
   "id": "76ec2d6b",
   "metadata": {},
   "source": [
    "# Polymorphism:"
   ]
  },
  {
   "cell_type": "markdown",
   "id": "9d2ef314",
   "metadata": {},
   "source": [
    "1. What is polymorphism in Python? Explain how it is related to object-oriented programming."
   ]
  },
  {
   "cell_type": "code",
   "execution_count": null,
   "id": "596fc824",
   "metadata": {},
   "outputs": [],
   "source": [
    "\"\"\"\n",
    "Polymorphism in Python is a concept that allows objects of different classes to be treated as objects of a common superclass.\n",
    "It enables you to write code that can work with objects of various types in a consistent way.\n",
    "Polymorphism is related to object-oriented programming because it is one of the four fundamental principles of OOP, along with encapsulation, inheritance, and abstraction.\n",
    "It helps make code more flexible and extensible by allowing different classes to implement their own behaviors for common methods or operations.\n",
    "\"\"\""
   ]
  },
  {
   "cell_type": "code",
   "execution_count": null,
   "id": "8b85fc18",
   "metadata": {},
   "outputs": [],
   "source": []
  },
  {
   "cell_type": "markdown",
   "id": "c53e5417",
   "metadata": {},
   "source": [
    "2. Describe the difference between compile-time polymorphism and runtime polymorphism in Python."
   ]
  },
  {
   "cell_type": "code",
   "execution_count": null,
   "id": "a82323d8",
   "metadata": {},
   "outputs": [],
   "source": [
    "\"\"\"\n",
    "In Python, there is no distinct concept of \"compile-time polymorphism.\"Python primarily relies on runtime polymorphism, which\n",
    "is achieved through method overriding, where the method to execute is determined at runtime based on the object's actual class\n",
    "rather than its reference type\n",
    "\"\"\""
   ]
  },
  {
   "cell_type": "code",
   "execution_count": null,
   "id": "0cfa2bb9",
   "metadata": {},
   "outputs": [],
   "source": []
  },
  {
   "cell_type": "markdown",
   "id": "6e8b0deb",
   "metadata": {},
   "source": [
    "3. Create a Python class hierarchy for shapes (e.g., circle, square, triangle) and demonstrate polymorphism\n",
    "through a common method, such as `calculate_area()`."
   ]
  },
  {
   "cell_type": "code",
   "execution_count": 2,
   "id": "2749c668",
   "metadata": {},
   "outputs": [
    {
     "name": "stdout",
     "output_type": "stream",
     "text": [
      "Area of Circle: 78.53981633974483\n",
      "Area of Triangle: 9.0\n",
      "Area of Square: 16\n"
     ]
    }
   ],
   "source": [
    "import math\n",
    "class Shape:\n",
    "    def calculate_area(self):\n",
    "        pass\n",
    "class Circle(Shape):\n",
    "    def __init__(self,radius):\n",
    "        self.radius=radius\n",
    "    def calculate_area(self):\n",
    "        return math.pi*self.radius**2\n",
    "class Square(Shape):\n",
    "    def __init__(self,side_lenght):\n",
    "        self.side_lenght=side_lenght\n",
    "    def calculate_area(self):\n",
    "        return self.side_lenght**2\n",
    "class Triangle(Shape):\n",
    "    def __init__(self,base,height):\n",
    "        self.base=base\n",
    "        self.height=height\n",
    "    def calculate_area(self):\n",
    "        return 0.5*self.base*self.height\n",
    "circle=Circle(5)\n",
    "# print(circle.calculate_area())\n",
    "square=Square(4)\n",
    "# print(square.calculate_area())\n",
    "triangle=Triangle(3,6)\n",
    "# print(triangle.calculate_area())\n",
    "\n",
    "shapes=[circle,triangle,square]\n",
    "for shape in shapes:\n",
    "    print(f\"Area of {shape.__class__.__name__}: {shape .calculate_area()}\")"
   ]
  },
  {
   "cell_type": "code",
   "execution_count": null,
   "id": "d9c8c619",
   "metadata": {},
   "outputs": [],
   "source": []
  },
  {
   "cell_type": "markdown",
   "id": "47b57878",
   "metadata": {},
   "source": [
    "4. Explain the concept of method overriding in polymorphism. Provide an example."
   ]
  },
  {
   "cell_type": "code",
   "execution_count": null,
   "id": "eace817b",
   "metadata": {},
   "outputs": [],
   "source": [
    "\"\"\"\n",
    "Method overriding is a fundamental concept in object-oriented programming, particularly in the context of polymorphism.\n",
    "It allows a subclass to provide a specific implementation of a method that is already defined in its parent class.\n",
    "When a subclass overrides a method, it provides its own version of the method with the same name and the same parameters,\n",
    "but with different behavior\n",
    "\"\"\"\n",
    "#Example\n",
    "class Animal:\n",
    "    def speak(self):\n",
    "        print(\"This is animal speaking\")\n",
    "class Dog(Animal):\n",
    "    def speak(self):\n",
    "        print(\"woof!woof!\")\n",
    "class Cat(Animal):\n",
    "    def speak(self):\n",
    "        print(\"meow! meow!\")\n",
    "dog=Dog()\n",
    "cat=Cat()\n",
    "dog.speak()\n",
    "cat.speak()"
   ]
  },
  {
   "cell_type": "code",
   "execution_count": null,
   "id": "75f53106",
   "metadata": {},
   "outputs": [],
   "source": []
  },
  {
   "cell_type": "markdown",
   "id": "6a44f484",
   "metadata": {},
   "source": [
    "5. How is polymorphism different from method overloading in Python? Provide examples for both."
   ]
  },
  {
   "cell_type": "code",
   "execution_count": null,
   "id": "722fbe1d",
   "metadata": {},
   "outputs": [],
   "source": [
    "#Polymorphism\n",
    "\"\"\"\n",
    "Polymorphism allows objects of different classes to be treated as objects of a common superclass, \n",
    "enabling the use of a common interface with different implementations.\n",
    "It's achieved through method overriding.\n",
    "\"\"\"\n",
    "#example\n",
    "class Animal:\n",
    "    def speak(self):\n",
    "        print(\"This is animal speaking\")\n",
    "class Dog(Animal):\n",
    "    def speak(self):\n",
    "        print(\"woof!woof!\")\n",
    "class Cat(Animal):\n",
    "    def speak(self):\n",
    "        print(\"meow! meow!\")\n",
    "dog=Dog()\n",
    "cat=Cat()\n",
    "dog.speak()\n",
    "cat.speak()\n",
    "#Overriding\n",
    "\"\"\"\n",
    "Method overloading, not native to Python, is the ability to have multiple methods with the same name but different parameter lists, which is not directly supported in Python.\n",
    "The last defined method with the same name replaces any previous ones.\n",
    "\"\"\"\n",
    "class MathOperations:\n",
    "    def calculate(self, x, y):\n",
    "        return x + y\n",
    "\n",
    "    def calculate(self, x, y, z):\n",
    "        return x + y + z\n",
    "math_obj = MathOperations()\n",
    "result = math_obj.calculate(1, 2, 3)\n",
    "print(result)"
   ]
  },
  {
   "cell_type": "code",
   "execution_count": null,
   "id": "74e8ed22",
   "metadata": {},
   "outputs": [],
   "source": []
  },
  {
   "cell_type": "markdown",
   "id": "d3f889c5",
   "metadata": {},
   "source": [
    "6. Create a Python class called `Animal` with a method `speak()`. Then, create child classes like `Dog`, `Cat`, and `Bird`, each with their own `speak()` method. Demonstrate polymorphism by calling the `speak()` method\n",
    "on objects of different subclasses."
   ]
  },
  {
   "cell_type": "code",
   "execution_count": 3,
   "id": "96acde82",
   "metadata": {},
   "outputs": [
    {
     "name": "stdout",
     "output_type": "stream",
     "text": [
      "Cat say: meow!,meow!\n",
      "Dog say: woof!,woof!\n",
      "Bird say: chirp!,chirp!\n"
     ]
    }
   ],
   "source": [
    "class Animal:\n",
    "    def speak(self):\n",
    "        print(\"This animal is speaking\")\n",
    "class Dog(Animal):\n",
    "    def speak(self):\n",
    "        return \"woof!,woof!\"\n",
    "class Cat(Animal):\n",
    "    def speak(self):\n",
    "        return \"meow!,meow!\"\n",
    "class Bird(Animal):\n",
    "    def speak(self):\n",
    "        return \"chirp!,chirp!\"\n",
    "dog=Dog()\n",
    "cat=Cat()\n",
    "bird=Bird()\n",
    "\n",
    "animals=[cat,dog,bird]\n",
    "for animal in animals:\n",
    "    print(f\"{animal.__class__.__name__} say: {animal.speak()}\")"
   ]
  },
  {
   "cell_type": "code",
   "execution_count": null,
   "id": "61f444fa",
   "metadata": {},
   "outputs": [],
   "source": []
  },
  {
   "cell_type": "markdown",
   "id": "0b8025f1",
   "metadata": {},
   "source": [
    "7. Discuss the use of abstract methods and classes in achieving polymorphism in Python. Provide an example\n",
    "using the `abc` module."
   ]
  },
  {
   "cell_type": "code",
   "execution_count": null,
   "id": "f4a7df6f",
   "metadata": {},
   "outputs": [],
   "source": [
    "\"\"\"\n",
    "\n",
    "Abstract methods and classes, when used with the abc module, enforce a common interface for subclasses.\n",
    "This ensures that objects from different classes adhere to the same method structure, allowing for polymorphism. \n",
    "Subclasses must implement the abstract methods defined in the abstract base class, ensuring a consistent interface.\n",
    "\"\"\"\n",
    "#Example\n",
    "from abc import ABC,abstractmethod\n",
    "class Shape(ABC):\n",
    "    @abstractmethod\n",
    "    def calculate_area(self):\n",
    "        pass\n",
    "class Circle(Shape):\n",
    "    def __init__(self,radius):\n",
    "        self.radius=radius\n",
    "    def calculate_area(self):\n",
    "        return 3.14159*self.radius**2\n",
    "class Square(Shape):\n",
    "    def __init__(self,side_lenght):\n",
    "        self.side_lenght=side_lenght\n",
    "    def calculate_area(self):\n",
    "        return self.side_lenght**2\n",
    "class Triangle(Shape):\n",
    "    def __init__(self,base,height):\n",
    "        self.base=base\n",
    "        self.height=height\n",
    "    def calculate_area(self):\n",
    "        return 0.5*self.base*self.height\n",
    "circle=Circle(5)\n",
    "square=Square(4)\n",
    "triangle=Triangle(3,6)\n",
    "\n",
    "shapes=[circle,triangle,square]\n",
    "for shape in shapes:\n",
    "    print(f\"Area of {shape.__class__.__name__}: {shape.calculate_area()}\")"
   ]
  },
  {
   "cell_type": "code",
   "execution_count": null,
   "id": "ff544bb7",
   "metadata": {},
   "outputs": [],
   "source": []
  },
  {
   "cell_type": "markdown",
   "id": "4c28ddd9",
   "metadata": {},
   "source": [
    "8. Create a Python class hierarchy for a vehicle system (e.g., car, bicycle, boat) and implement a\n",
    "polymorphic start() methods that prints a message specific to each vehicle type."
   ]
  },
  {
   "cell_type": "code",
   "execution_count": 4,
   "id": "945b8054",
   "metadata": {},
   "outputs": [
    {
     "name": "stdout",
     "output_type": "stream",
     "text": [
      "Car starts with a roaring engine.\n",
      "Bicycle starts with a pedal push.\n",
      "Boat starts with the sound of the engine.\n"
     ]
    }
   ],
   "source": [
    "class Vehicle:\n",
    "    def __init__(self, name):\n",
    "        self.name = name\n",
    "\n",
    "    def start(self):\n",
    "        pass\n",
    "\n",
    "class Car(Vehicle):\n",
    "    def start(self):\n",
    "        return f\"{self.name} starts with a roaring engine.\"\n",
    "\n",
    "class Bicycle(Vehicle):\n",
    "    def start(self):\n",
    "        return f\"{self.name} starts with a pedal push.\"\n",
    "\n",
    "class Boat(Vehicle):\n",
    "    def start(self):\n",
    "        return f\"{self.name} starts with the sound of the engine.\"\n",
    "car = Car(\"Car\")\n",
    "bicycle = Bicycle(\"Bicycle\")\n",
    "boat = Boat(\"Boat\")\n",
    "\n",
    "vehicles = [car, bicycle, boat]\n",
    "\n",
    "for vehicle in vehicles:\n",
    "    print(vehicle.start())\n"
   ]
  },
  {
   "cell_type": "code",
   "execution_count": null,
   "id": "a9cba862",
   "metadata": {},
   "outputs": [],
   "source": []
  },
  {
   "cell_type": "markdown",
   "id": "76bce1db",
   "metadata": {},
   "source": [
    "9. Explain the significance of the `isinstance()` and `issubclass()` functions in Python polymorphism."
   ]
  },
  {
   "cell_type": "code",
   "execution_count": null,
   "id": "94da9ad7",
   "metadata": {},
   "outputs": [],
   "source": [
    "#ISINSTANCE\n",
    "\"\"\"\n",
    "The isinstance() function checks if an object is an instance of a specific class or its subclasses, ensuring compatibility in polymorphic contexts.\n",
    "\"\"\"\n",
    "#ISSUBCLASS\n",
    "\"\"\"\n",
    "The issubclass() function checks if a class is a subclass of another class, validating class hierarchies and relationships in polymorphic code.\n",
    "\"\"\""
   ]
  },
  {
   "cell_type": "code",
   "execution_count": null,
   "id": "648ba534",
   "metadata": {},
   "outputs": [],
   "source": []
  },
  {
   "cell_type": "markdown",
   "id": "d7de6d55",
   "metadata": {},
   "source": [
    "10. What is the role of the `@abstractmethod` decorator in achieving polymorphism in Python? Provide an\n",
    "example."
   ]
  },
  {
   "cell_type": "code",
   "execution_count": null,
   "id": "a6fbe980",
   "metadata": {},
   "outputs": [],
   "source": [
    "\"\"\"\n",
    "The @abstractmethod decorator, when used in Python's Abstract Base Classes (ABCs), enforces the implementation of a method in concrete subclasses. \n",
    "This ensures a common method structure, enabling polymorphism by allowing objects from different subclasses to be used interchangeably through a shared interface.\n",
    "\"\"\"\n",
    "#Example\n",
    "from abc import ABC, abstractmethod\n",
    "\n",
    "class Shape(ABC):\n",
    "    @abstractmethod\n",
    "    def calculate_area(self):\n",
    "        pass\n",
    "\n",
    "class Circle(Shape):\n",
    "    def __init__(self, radius):\n",
    "        self.radius = radius\n",
    "\n",
    "    def calculate_area(self):\n",
    "        return 3.14159 * self.radius * self.radius\n",
    "\n",
    "class Square(Shape):\n",
    "    def __init__(self, side_length):\n",
    "        self.side_length = side_length\n",
    "\n",
    "    def calculate_area(self):\n",
    "        return self.side_length * self.side_length\n",
    "\n",
    "class Triangle(Shape):\n",
    "    def __init__(self, base, height):\n",
    "        self.base = base\n",
    "        self.height = height\n",
    "\n",
    "    def calculate_area(self):\n",
    "        return 0.5 * self.base * self.height\n",
    "\n",
    "circle = Circle(5)\n",
    "square = Square(4)\n",
    "triangle = Triangle(3, 6)\n",
    "\n",
    "shapes = [circle, square, triangle]\n",
    "\n",
    "for shape in shapes:\n",
    "    print(f\"Area of {shape.__class__.__name__}: {shape.calculate_area()}\")\n"
   ]
  },
  {
   "cell_type": "code",
   "execution_count": null,
   "id": "777bc0c1",
   "metadata": {},
   "outputs": [],
   "source": []
  },
  {
   "cell_type": "markdown",
   "id": "33e90790",
   "metadata": {},
   "source": [
    "11. Create a Python class called `Shape` with a polymorphic method `area()` that calculates the area of different shapes(eg circle,triangle,rectangle)"
   ]
  },
  {
   "cell_type": "code",
   "execution_count": 5,
   "id": "757af818",
   "metadata": {},
   "outputs": [
    {
     "name": "stdout",
     "output_type": "stream",
     "text": [
      "Area of Circle : 78.53981633974483\n",
      "Area of Triangle : 9.0\n",
      "Area of Rectangle : 32\n"
     ]
    }
   ],
   "source": [
    "import math\n",
    "class Shape:\n",
    "    def area(self):\n",
    "        pass\n",
    "class Circle(Shape):\n",
    "    def __init__(self,radius):\n",
    "        self.radius=radius\n",
    "    def area(self):\n",
    "        return math.pi*self.radius**2\n",
    "class Triangle(Shape):\n",
    "    def __init__(self,base,height):\n",
    "        self.base=base\n",
    "        self.height=height\n",
    "    def area(self):\n",
    "        return 0.5 *self.base*self.height\n",
    "class Rectangle(Shape):\n",
    "    def __init__(self,lenght,width):\n",
    "        self.lenght=lenght\n",
    "        self.width=width\n",
    "    def area(self):\n",
    "        return self.lenght*self.width\n",
    "circle=Circle(5)\n",
    "triangle=Triangle(3,6)\n",
    "rectangle=Rectangle(4,8)\n",
    "shapes=[circle,triangle,rectangle]\n",
    "for shape in shapes:\n",
    "    print(f\"Area of {shape.__class__.__name__} : {shape.area()}\")"
   ]
  },
  {
   "cell_type": "code",
   "execution_count": null,
   "id": "788a668d",
   "metadata": {},
   "outputs": [],
   "source": []
  },
  {
   "cell_type": "markdown",
   "id": "4040935e",
   "metadata": {},
   "source": [
    "12. Discuss the benefits of polymorphism in terms of code reusability and flexibility in Python programs."
   ]
  },
  {
   "cell_type": "code",
   "execution_count": null,
   "id": "22466aa6",
   "metadata": {},
   "outputs": [],
   "source": [
    "\"\"\"\n",
    "Polymorphism in Python improves code reusability and flexibility by allowing the same code to work with different objects that share a common interface.\n",
    "It reduces code duplication, eases maintenance, and enhances scalability while promoting clean and readable code.\n",
    "\"\"\""
   ]
  },
  {
   "cell_type": "code",
   "execution_count": null,
   "id": "aa1d03ca",
   "metadata": {},
   "outputs": [],
   "source": []
  },
  {
   "cell_type": "markdown",
   "id": "a84c4729",
   "metadata": {},
   "source": [
    "13. Explain the use of the `super()` function in Python polymorphism. How does it help call methods of parent\n",
    "classes?"
   ]
  },
  {
   "cell_type": "code",
   "execution_count": 6,
   "id": "e1c8a9d6",
   "metadata": {},
   "outputs": [
    {
     "name": "stdout",
     "output_type": "stream",
     "text": [
      "This is the Parent class\n",
      "This is the Child class\n"
     ]
    }
   ],
   "source": [
    "\"\"\"\n",
    "The super() function in Python is used to call methods of parent classes in the class hierarchy.\n",
    "It helps achieve method overriding, code reuse, and polymorphism by allowing a subclass to invoke a method from its superclass, combining the behavior of both classes.\n",
    "\"\"\"\n",
    "#Example\n",
    "class Parent:\n",
    "    def show(self):\n",
    "        print(\"This is the Parent class\")\n",
    "\n",
    "class Child(Parent):\n",
    "    def show(self):\n",
    "        super().show()  \n",
    "        print(\"This is the Child class\")\n",
    "\n",
    "child = Child()\n",
    "child.show()\n"
   ]
  },
  {
   "cell_type": "code",
   "execution_count": null,
   "id": "2d881645",
   "metadata": {},
   "outputs": [],
   "source": []
  },
  {
   "cell_type": "markdown",
   "id": "9edab4f9",
   "metadata": {},
   "source": [
    "14. Create a Python class hierarchy for a banking system with various account types (e.g., savings, checking, credit card) and demonstrate polymorphism by implementing a common `withdraw()` method."
   ]
  },
  {
   "cell_type": "code",
   "execution_count": 7,
   "id": "14e2c7d8",
   "metadata": {},
   "outputs": [
    {
     "name": "stdout",
     "output_type": "stream",
     "text": [
      "800\n",
      "1800\n",
      "2795\n"
     ]
    }
   ],
   "source": [
    "class Account:\n",
    "    def __init__(self,account_number,balance):\n",
    "        self.account_number=account_number\n",
    "        self.balance=balance\n",
    "    def withdraw(self,amount):\n",
    "        pass\n",
    "class SavingAccounts(Account):\n",
    "    def withdraw(self,amount):\n",
    "        if amount<=self.balance:\n",
    "            self.balance-=amount\n",
    "            return self.balance\n",
    "        else:\n",
    "            return \"Insufficient funds\"\n",
    "class CheckingAccount(Account):\n",
    "    def withdraw(self,amount):\n",
    "        if amount<=self.balance:\n",
    "            self.balance-=amount\n",
    "            return self.balance\n",
    "        else:\n",
    "            return \"Insufficient amount\"\n",
    "class CreditCardAccount(Account):\n",
    "    def withdraw(self,amount):\n",
    "        withdrawal_fee=5\n",
    "        total_withdrawal=amount+withdrawal_fee\n",
    "        if total_withdrawal<=self.balance:\n",
    "            self.balance-=total_withdrawal\n",
    "            return self.balance\n",
    "        else:\n",
    "            \"insufficient amount\"\n",
    "savings=SavingAccounts(\"Khan\",1000)\n",
    "checking=CheckingAccount(\"Sudh\",2000)\n",
    "credit_card=CreditCardAccount(\"kumar\",3000)\n",
    "\n",
    "accounts=[savings, checking, credit_card]\n",
    "for account in accounts:\n",
    "    print(account.withdraw(200))"
   ]
  },
  {
   "cell_type": "code",
   "execution_count": null,
   "id": "80003318",
   "metadata": {},
   "outputs": [],
   "source": []
  },
  {
   "cell_type": "markdown",
   "id": "9bc10633",
   "metadata": {},
   "source": [
    "15. Describe the concept of operator overloading in Python and how it relates to polymorphism. Provide\n",
    "examples using operators like `+` and `*`."
   ]
  },
  {
   "cell_type": "code",
   "execution_count": 1,
   "id": "88a876cb",
   "metadata": {},
   "outputs": [
    {
     "name": "stdout",
     "output_type": "stream",
     "text": [
      "3+5i\n",
      "-4+7i\n"
     ]
    }
   ],
   "source": [
    "\"\"\"\n",
    "Operator overloading in Python allows you to define custom behaviors for standard operators like + and * when applied to user-defined objects.\n",
    "It's a form of polymorphism that makes code more intuitive and readable.\"\"\"\n",
    "#Example\n",
    "class ComplexNumber:\n",
    "    def __init__(self,real,imag):\n",
    "        self.real=real\n",
    "        self.imag=imag\n",
    "    def __add__(self, other):\n",
    "        real_sum=self.real+other.real\n",
    "        imag_sum=self.imag+other.imag\n",
    "        return ComplexNumber(real_sum,imag_sum)\n",
    "    def __mul__(self,other):\n",
    "        real_product=self.real*other.real-self.imag * other.imag\n",
    "        imag_product=self.real*other.imag+self.imag * other.real\n",
    "        return ComplexNumber(real_product,imag_product)\n",
    "    def __str__(self):\n",
    "        return f\"{self.real}+{self.imag}i\"\n",
    "c1=ComplexNumber(1,2)\n",
    "c2=ComplexNumber(2,3)\n",
    "\n",
    "result_add=c1+c2\n",
    "print(result_add)\n",
    "result_mul=c1 * c2\n",
    "print(result_mul)"
   ]
  },
  {
   "cell_type": "code",
   "execution_count": null,
   "id": "45cc8730",
   "metadata": {},
   "outputs": [],
   "source": []
  },
  {
   "cell_type": "markdown",
   "id": "af92ea8d",
   "metadata": {},
   "source": [
    "16. What is dynamic polymorphism, and how is it achieved in Python?"
   ]
  },
  {
   "cell_type": "code",
   "execution_count": 2,
   "id": "ca71e754",
   "metadata": {},
   "outputs": [
    {
     "data": {
      "text/plain": [
       "\"\\nDynamic polymorphism, also known as runtime polymorphism, allows different objects to respond to the same method or\\nfunction call in a way that is contextually appropriate. In Python, dynamic polymorphism is achieved through method overriding. \\nSubclasses can provide their own implementations for methods with the same name as the parent class, and the appropriate method\\nis called at runtime based on the object's actual type.\\n\""
      ]
     },
     "execution_count": 2,
     "metadata": {},
     "output_type": "execute_result"
    }
   ],
   "source": [
    "\"\"\"\n",
    "Dynamic polymorphism, also known as runtime polymorphism, allows different objects to respond to the same method or\n",
    "function call in a way that is contextually appropriate. In Python, dynamic polymorphism is achieved through method overriding. \n",
    "Subclasses can provide their own implementations for methods with the same name as the parent class, and the appropriate method\n",
    "is called at runtime based on the object's actual type.\n",
    "\"\"\""
   ]
  },
  {
   "cell_type": "code",
   "execution_count": null,
   "id": "d8d40fda",
   "metadata": {},
   "outputs": [],
   "source": []
  },
  {
   "cell_type": "markdown",
   "id": "a801a7ec",
   "metadata": {},
   "source": [
    "17. Create a Python class hierarchy for employees in a company (e.g., manager, developer, designer) and\n",
    "implement polymorphism through a common 'calculate_salary()' method. "
   ]
  },
  {
   "cell_type": "code",
   "execution_count": 3,
   "id": "7e7db247",
   "metadata": {},
   "outputs": [
    {
     "name": "stdout",
     "output_type": "stream",
     "text": [
      "Abdullah (M001) Salary: $75,000.00\n",
      "SUDH (D001) Salary: $8,000.00\n",
      "KUMAR (D002) Salary: $5,500.00\n"
     ]
    }
   ],
   "source": [
    "class Employee:\n",
    "    def __init__(self, name, employee_id):\n",
    "        self.name = name\n",
    "        self.employee_id = employee_id\n",
    "\n",
    "    def calculate_salary(self):\n",
    "        pass\n",
    "\n",
    "class Manager(Employee):\n",
    "    def __init__(self, name, employee_id, base_salary, bonus):\n",
    "        super().__init__(name, employee_id)\n",
    "        self.base_salary = base_salary\n",
    "        self.bonus = bonus\n",
    "\n",
    "    def calculate_salary(self):\n",
    "        return self.base_salary + self.bonus\n",
    "\n",
    "class Developer(Employee):\n",
    "    def __init__(self, name, employee_id, hourly_rate, hours_worked):\n",
    "        super().__init__(name, employee_id)\n",
    "        self.hourly_rate = hourly_rate\n",
    "        self.hours_worked = hours_worked\n",
    "\n",
    "    def calculate_salary(self):\n",
    "        return self.hourly_rate * self.hours_worked\n",
    "\n",
    "class Designer(Employee):\n",
    "    def __init__(self, name, employee_id, monthly_salary):\n",
    "        super().__init__(name, employee_id)\n",
    "        self.monthly_salary = monthly_salary\n",
    "\n",
    "    def calculate_salary(self):\n",
    "        return self.monthly_salary\n",
    "manager = Manager(\"Abdullah\", \"M001\", 60000, 15000)\n",
    "developer = Developer(\"SUDH\", \"D001\", 50, 160)\n",
    "designer = Designer(\"KUMAR\", \"D002\", 5500)\n",
    "\n",
    "employees = [manager, developer, designer]\n",
    "\n",
    "for employee in employees:\n",
    "    print(f\"{employee.name} ({employee.employee_id}) Salary: ${employee.calculate_salary():,.2f}\")\n"
   ]
  },
  {
   "cell_type": "code",
   "execution_count": null,
   "id": "99230375",
   "metadata": {},
   "outputs": [],
   "source": []
  },
  {
   "cell_type": "markdown",
   "id": "02da219d",
   "metadata": {},
   "source": [
    "18. Discuss the concept of function pointers and how they can be used to achieve polymorphism in Python."
   ]
  },
  {
   "cell_type": "code",
   "execution_count": 4,
   "id": "f6353262",
   "metadata": {},
   "outputs": [
    {
     "data": {
      "text/plain": [
       "\"\\n\\nIn Python, you can achieve polymorphism without traditional function pointers by using callable objects\\n(e.g., functions or methods). If different objects have the same callable interface (e.g., methods with the same name),\\nthey can be used interchangeably, allowing polymorphic behavior.\\nThis concept is rooted in Python's dynamic typing and duck typing principles.\\n\""
      ]
     },
     "execution_count": 4,
     "metadata": {},
     "output_type": "execute_result"
    }
   ],
   "source": [
    "\"\"\"\n",
    "\n",
    "In Python, you can achieve polymorphism without traditional function pointers by using callable objects\n",
    "(e.g., functions or methods). If different objects have the same callable interface (e.g., methods with the same name),\n",
    "they can be used interchangeably, allowing polymorphic behavior.\n",
    "This concept is rooted in Python's dynamic typing and duck typing principles.\n",
    "\"\"\""
   ]
  },
  {
   "cell_type": "code",
   "execution_count": null,
   "id": "52924296",
   "metadata": {},
   "outputs": [],
   "source": []
  },
  {
   "cell_type": "markdown",
   "id": "87f7a478",
   "metadata": {},
   "source": [
    "19. Explain the role of interfaces and abstract classes in polymorphism, drawing comparisons between them."
   ]
  },
  {
   "cell_type": "code",
   "execution_count": null,
   "id": "0b822f4a",
   "metadata": {},
   "outputs": [],
   "source": [
    "\"\"\"\n",
    "Abstract classes and interfaces both facilitate polymorphism by defining a common interface for classes,\n",
    "but they have different characteristics. Abstract classes can have fields and concrete methods,\n",
    "serving as a blueprint for related classes.\n",
    "Interfaces contain only method signatures and ensure that unrelated classes adhere to a common contract, \n",
    "promoting more flexible polymorphism.\n",
    "\"\"\""
   ]
  },
  {
   "cell_type": "markdown",
   "id": "6193826e",
   "metadata": {},
   "source": [
    "20. Create a Python class for a zoo simulation, demonstrating polymorphism with different animal types (e.g.\n",
    ",mammals,birds,reptiles)and thier behavior eg(eating,sleeping,making sound)\n",
    "                                                                                                        "
   ]
  },
  {
   "cell_type": "code",
   "execution_count": 1,
   "id": "7342b4fc",
   "metadata": {},
   "outputs": [
    {
     "name": "stdout",
     "output_type": "stream",
     "text": [
      "lion:\n",
      "lion is eating plants and other mammals\n",
      "lion is sleeping in a cozy den\n",
      "lion makes mammal sounds\n",
      "\n",
      "\n",
      "Sparrow:\n",
      "Sparrow is eating seeds or insects\n",
      "Sparrow is roosting in a tree\n",
      "Sparrow chirps and sings\n",
      "\n",
      "\n",
      "Snake:\n",
      "Snake is eating insects or small animals\n",
      "Snake is sunbathing on a rock\n",
      "Snake hisses or making reptile sounds\n",
      "\n",
      "\n"
     ]
    }
   ],
   "source": [
    "class Animal:\n",
    "    def __init__(self,name):\n",
    "        self.name=name\n",
    "\n",
    "    def eat(self):\n",
    "        pass\n",
    "    def sleep(self):\n",
    "        pass\n",
    "    def make_sound(self):\n",
    "        pass\n",
    "class Mammal(Animal):\n",
    "    def eat(self):\n",
    "        return f\"{self.name} is eating plants and other mammals\"\n",
    "    def sleep(self):\n",
    "        return f\"{self.name} is sleeping in a cozy den\"\n",
    "    def make_sound(self):\n",
    "        return f\"{self.name} makes mammal sounds\"\n",
    "class Bird(Animal):\n",
    "    def eat(self):\n",
    "        return f\"{self.name} is eating seeds or insects\"\n",
    "    def sleep(self):\n",
    "        return f\"{self.name} is roosting in a tree\"\n",
    "    def make_sound(self):\n",
    "        return f\"{self.name} chirps and sings\"\n",
    "class Reptile(Animal):\n",
    "    def eat(self):\n",
    "        return f\"{self.name} is eating insects or small animals\"\n",
    "    def sleep(self):\n",
    "        return f\"{self.name} is sunbathing on a rock\"\n",
    "    def make_sound(self):\n",
    "        return f\"{self.name} hisses or making reptile sounds\"\n",
    "\n",
    "if __name__==\"__main__\":\n",
    "    lion=Mammal(\"lion\")\n",
    "    sparrow=Bird(\"Sparrow\")\n",
    "    snake=Reptile(\"Snake\")\n",
    "\n",
    "    animals=[lion,sparrow,snake]\n",
    "    for animal in animals:\n",
    "        print(f\"{animal.name}:\")\n",
    "        print(animal.eat())\n",
    "        print(animal.sleep())\n",
    "        print(animal.make_sound())\n",
    "        print(\"\\n\")"
   ]
  },
  {
   "cell_type": "code",
   "execution_count": null,
   "id": "a68fa026",
   "metadata": {},
   "outputs": [],
   "source": []
  },
  {
   "cell_type": "markdown",
   "id": "eff27f19",
   "metadata": {},
   "source": [
    "# Abstraction:"
   ]
  },
  {
   "cell_type": "markdown",
   "id": "90a9ad54",
   "metadata": {},
   "source": [
    "1. What is abstraction in Python, and how does it relate to object-oriented programming?"
   ]
  },
  {
   "cell_type": "code",
   "execution_count": null,
   "id": "2c99a0a2",
   "metadata": {},
   "outputs": [],
   "source": [
    "\"\"\"\n",
    "Abstraction in Python means simplifying things by showing only what's important and hiding the complex details.\n",
    "It's like using a TV remote without knowing how it works inside – you just press the buttons to change channels.\n",
    "In object-oriented programming, abstraction helps make code easier to use and understand by focusing on what objects can\n",
    "do rather than how they do it.\n",
    "\"\"\""
   ]
  },
  {
   "cell_type": "code",
   "execution_count": null,
   "id": "7ca324e1",
   "metadata": {},
   "outputs": [],
   "source": []
  },
  {
   "cell_type": "markdown",
   "id": "94501628",
   "metadata": {},
   "source": [
    "2. Describe the benefits of abstraction in terms of code organization and complexity reduction."
   ]
  },
  {
   "cell_type": "code",
   "execution_count": null,
   "id": "5350fac8",
   "metadata": {},
   "outputs": [],
   "source": [
    "\"\"\"\n",
    "Abstraction in code organization and complexity reduction means making code easier to manage.\n",
    "It simplifies by hiding complex details and focusing on what's important.\n",
    "This helps in keeping code organized, understandable, and easier to change or reuse.\n",
    "\"\"\""
   ]
  },
  {
   "cell_type": "code",
   "execution_count": null,
   "id": "b94b7f99",
   "metadata": {},
   "outputs": [],
   "source": []
  },
  {
   "cell_type": "markdown",
   "id": "e7afc2f2",
   "metadata": {},
   "source": [
    "3. Create a Python class called `Shape` with an abstract method `calculate_area()`. Then, create child classes (e.g., `Circle`, `Rectangle`) that implement the `calculate_area()` method. Provide an example of\n",
    "using these classes."
   ]
  },
  {
   "cell_type": "code",
   "execution_count": 2,
   "id": "382b09fa",
   "metadata": {},
   "outputs": [
    {
     "name": "stdout",
     "output_type": "stream",
     "text": [
      "Area of circle is 452.16\n",
      "Area or Rectangle is 276\n"
     ]
    }
   ],
   "source": [
    "import abc\n",
    "class Shape:\n",
    "\n",
    "    @abc.abstractmethod\n",
    "    def Calculate_area(self):\n",
    "        pass\n",
    "class Circle(Shape):\n",
    "\n",
    "    def Calculate_area(self,radius):\n",
    "        Area=3.14*radius**2\n",
    "        return f\"Area of circle is {Area}\"\n",
    "class Rectangle(Shape):\n",
    "\n",
    "    def Calculate_area(self,width,lenght):\n",
    "        Area=width*lenght\n",
    "        return f\"Area or Rectangle is {Area}\"\n",
    "circle=Circle()\n",
    "print(circle.Calculate_area(12))\n",
    "rectangle=Rectangle()\n",
    "print(rectangle.Calculate_area(23,12))"
   ]
  },
  {
   "cell_type": "code",
   "execution_count": null,
   "id": "d749332d",
   "metadata": {},
   "outputs": [],
   "source": []
  },
  {
   "cell_type": "markdown",
   "id": "acd692f3",
   "metadata": {},
   "source": [
    "4. Explain the concept of abstract classes in Python and how they are defined using the `abc` module. Provide\n",
    "an example."
   ]
  },
  {
   "cell_type": "code",
   "execution_count": 3,
   "id": "4e6c0d2a",
   "metadata": {},
   "outputs": [
    {
     "name": "stdout",
     "output_type": "stream",
     "text": [
      "Area of circle is 452.16\n",
      "Area or Rectangle is 276\n"
     ]
    }
   ],
   "source": [
    "\"\"\"\n",
    "Abstract classes in Python are like templates for other classes. \n",
    "They have methods that must be filled in by other classes.\n",
    "The abc module helps create them.\n",
    "It makes sure that these methods are implemented, making your code more organized and structured.\n",
    "\"\"\"\n",
    "import abc\n",
    "class Shape:\n",
    "\n",
    "    @abc.abstractmethod\n",
    "    def Calculate_area(self):\n",
    "        pass\n",
    "class Circle(Shape):\n",
    "\n",
    "    def Calculate_area(self,radius):\n",
    "        Area=3.14*radius**2\n",
    "        return f\"Area of circle is {Area}\"\n",
    "class Rectangle(Shape):\n",
    "\n",
    "    def Calculate_area(self,width,lenght):\n",
    "        Area=width*lenght\n",
    "        return f\"Area or Rectangle is {Area}\"\n",
    "circle=Circle()\n",
    "print(circle.Calculate_area(12))\n",
    "rectangle=Rectangle()\n",
    "print(rectangle.Calculate_area(23,12))"
   ]
  },
  {
   "cell_type": "code",
   "execution_count": null,
   "id": "be9fd8ed",
   "metadata": {},
   "outputs": [],
   "source": []
  },
  {
   "cell_type": "markdown",
   "id": "f905e287",
   "metadata": {},
   "source": [
    "How do abstract classes differ from regular classes in Python? Discuss their use cases."
   ]
  },
  {
   "cell_type": "code",
   "execution_count": null,
   "id": "f3d2eb75",
   "metadata": {},
   "outputs": [],
   "source": [
    "\"\"\"\n",
    "Abstract classes cannot be instantiated, and they may contain abstract methods that must be implemented by their subclasses.\n",
    "Regular classes can be instantiated and don't have to contain abstract methods.\n",
    "Use cases:\n",
    "Abstract classes are used when you want to define a common interface that multiple related classes must follow.\n",
    "Regular classes are used to create objects that you can use directly.\n",
    "\"\"\""
   ]
  },
  {
   "cell_type": "code",
   "execution_count": null,
   "id": "96375346",
   "metadata": {},
   "outputs": [],
   "source": []
  },
  {
   "cell_type": "markdown",
   "id": "5d2eb265",
   "metadata": {},
   "source": [
    "6. Create a Python class for a bank account and demonstrate abstraction by hiding the account balance and\n",
    "providing methods to deposit and withdraw funds."
   ]
  },
  {
   "cell_type": "code",
   "execution_count": 8,
   "id": "f3fdcee0",
   "metadata": {},
   "outputs": [
    {
     "name": "stdout",
     "output_type": "stream",
     "text": [
      "1770\n"
     ]
    }
   ],
   "source": [
    "class BankAccount:\n",
    "    \n",
    "    \n",
    "    def __init__(self, account_number, account_holder, initial_balance=0):\n",
    "        self.account_number = account_number\n",
    "        self.account_holder = account_holder\n",
    "        self._balance = initial_balance\n",
    "\n",
    "    def deposit(self, amount):\n",
    "        if amount > 0:\n",
    "            self._balance += amount\n",
    "            return self._balance\n",
    "\n",
    "    def withdraw(self, amount):\n",
    "        if amount <= self._balance:\n",
    "            self._balance -= amount\n",
    "        else:\n",
    "            return \"invalid input\"\n",
    "\n",
    "    def get_balance(self):\n",
    "        return self._balance\n",
    "\n",
    "sudh = BankAccount(8687, \"ABDULLAh\")\n",
    "sudh.deposit(2000)\n",
    "sudh.withdraw(230)\n",
    "print(sudh.get_balance())"
   ]
  },
  {
   "cell_type": "code",
   "execution_count": null,
   "id": "3eaeb696",
   "metadata": {},
   "outputs": [],
   "source": []
  },
  {
   "cell_type": "markdown",
   "id": "3097e737",
   "metadata": {},
   "source": [
    "7. Discuss the concept of interface classes in Python and their role in achieving abstraction."
   ]
  },
  {
   "cell_type": "code",
   "execution_count": null,
   "id": "e9051ff4",
   "metadata": {},
   "outputs": [],
   "source": [
    "\"\"\"\n",
    "Interfaces focus on defining a contract between a class and its users, while abstract classes focus on defining a\n",
    "common interface for a group of related classes. In general,\n",
    "interfaces cannot define any implementation, while abstract classes can define both abstract methods and concrete methods.\n",
    "\"\"\""
   ]
  },
  {
   "cell_type": "code",
   "execution_count": null,
   "id": "cb21fc9c",
   "metadata": {},
   "outputs": [],
   "source": []
  },
  {
   "cell_type": "markdown",
   "id": "affe2a23",
   "metadata": {},
   "source": [
    "8. Create a Python class hierarchy for animals and implement abstraction by defining common methods\n",
    "(e.g eat(),sleep()) in an abstract base class."
   ]
  },
  {
   "cell_type": "code",
   "execution_count": 9,
   "id": "5d401290",
   "metadata": {},
   "outputs": [
    {
     "name": "stdout",
     "output_type": "stream",
     "text": [
      "Rock:\n",
      "Rock says Woof!\n",
      "Rock is eating dog food.\n",
      "Rock is sleeping in its dog bed\n",
      "\n",
      "obama:\n",
      "obama says Meow!\n",
      "obama is eating cat food\n",
      "obama is napping on the couch\n",
      "\n",
      "Tweety:\n",
      "Tweety chirps and sings\n",
      "Tweety is pecking on birdseed\n",
      "Tweety is roosting in a tree\n",
      "\n"
     ]
    }
   ],
   "source": [
    "import abc\n",
    "from abc import ABC,abstractmethod\n",
    "class Animal(ABC):\n",
    "     def __init__(self,name):\n",
    "         self.name=name\n",
    "\n",
    "     @abstractmethod\n",
    "     def speak(self):\n",
    "         pass\n",
    "\n",
    "     @abstractmethod\n",
    "     def eat(self):\n",
    "         pass\n",
    "\n",
    "     @abstractmethod\n",
    "     def sleep(self):\n",
    "         pass\n",
    "class Dog(Animal):\n",
    "    def speak(self):\n",
    "        return f\"{self.name} says Woof!\"\n",
    "    def eat(self):\n",
    "        return f\"{self.name} is eating dog food.\"\n",
    "    def sleep(self):\n",
    "        return f\"{self.name} is sleeping in its dog bed\"\n",
    "\n",
    "class Cat(Animal):\n",
    "    def speak(self):\n",
    "        return f\"{self.name} says Meow!\"\n",
    "    def eat(self):\n",
    "        return f\"{self.name} is eating cat food\"\n",
    "    def sleep(self):\n",
    "        return f\"{self.name} is napping on the couch\"\n",
    "class Bird(Animal):\n",
    "    def speak(self):\n",
    "        return f\"{self.name} chirps and sings\"\n",
    "    def eat(self):\n",
    "        return f\"{self.name} is pecking on birdseed\"\n",
    "    def sleep(self):\n",
    "        return f\"{self.name} is roosting in a tree\"\n",
    "\n",
    "if __name__==\"__main__\":\n",
    "    dog=Dog(\"Rock\")\n",
    "    cat=Cat(\"obama\")\n",
    "    bird=Bird(\"Tweety\")\n",
    "\n",
    "    animals=[dog,cat,bird]\n",
    "    for animal in animals:\n",
    "        print(f\"{animal.name}:\")\n",
    "        print(animal.speak())\n",
    "        print(animal.eat())\n",
    "        print(animal.sleep())\n",
    "        print()\n"
   ]
  },
  {
   "cell_type": "code",
   "execution_count": null,
   "id": "c34829ce",
   "metadata": {},
   "outputs": [],
   "source": []
  },
  {
   "cell_type": "markdown",
   "id": "62549679",
   "metadata": {},
   "source": [
    "9. Explain the significance of encapsulation in achieving abstraction. Provide examples."
   ]
  },
  {
   "cell_type": "code",
   "execution_count": 10,
   "id": "dae0c0fe",
   "metadata": {},
   "outputs": [
    {
     "name": "stdout",
     "output_type": "stream",
     "text": [
      "1770\n"
     ]
    }
   ],
   "source": [
    "\"\"\"\n",
    "Encapsulation is like a protective wrapper around a class. It keeps the inside details hidden and provides a safe way to interact with the class. This is important\n",
    "for abstraction because it hides complexity and allows you to focus on what a class does without worrying about how it does it.\n",
    "\"\"\"\n",
    "#Example\n",
    "class BankAccount:\n",
    "    \n",
    "    \n",
    "    def __init__(self, account_number, account_holder, initial_balance=0):\n",
    "        self.account_number = account_number\n",
    "        self.account_holder = account_holder\n",
    "        self._balance = initial_balance\n",
    "\n",
    "    def deposit(self, amount):\n",
    "        if amount > 0:\n",
    "            self._balance += amount\n",
    "            return self._balance\n",
    "\n",
    "    def withdraw(self, amount):\n",
    "        if amount <= self._balance:\n",
    "            self._balance -= amount\n",
    "        else:\n",
    "            return \"invalid input\"\n",
    "\n",
    "    def get_balance(self):\n",
    "        return self._balance\n",
    "\n",
    "sudh = BankAccount(8687, \"ABDULLAh\")\n",
    "sudh.deposit(2000)\n",
    "sudh.withdraw(230)\n",
    "print(sudh.get_balance())"
   ]
  },
  {
   "cell_type": "code",
   "execution_count": null,
   "id": "4664db69",
   "metadata": {},
   "outputs": [],
   "source": []
  },
  {
   "cell_type": "markdown",
   "id": "ac043d38",
   "metadata": {},
   "source": [
    "10. What is the purpose of abstract methods, and how do they enforce abstraction in Python classes?"
   ]
  },
  {
   "cell_type": "code",
   "execution_count": null,
   "id": "f593b08a",
   "metadata": {},
   "outputs": [],
   "source": [
    "\"\"\"\n",
    "Abstract methods in Python serve the purpose of defining a method in a base class that must be implemented by its subclasses.\n",
    "They enforce abstraction by requiring concrete (non-abstract) subclasses to provide their own implementation of the abstract\n",
    "method. This enforces a common interface while hiding implementation details, promoting abstraction and consistency among \n",
    "related classes.\n",
    "\"\"\""
   ]
  },
  {
   "cell_type": "code",
   "execution_count": null,
   "id": "da6d589b",
   "metadata": {},
   "outputs": [],
   "source": []
  },
  {
   "cell_type": "markdown",
   "id": "c4a3e489",
   "metadata": {},
   "source": [
    "11. Create a Python class for a vehicle system and demonstrate abstraction by defining common methods\n",
    "(start(),stop()) in an abstract base class."
   ]
  },
  {
   "cell_type": "code",
   "execution_count": 1,
   "id": "1f6fc576",
   "metadata": {},
   "outputs": [
    {
     "name": "stdout",
     "output_type": "stream",
     "text": [
      "Starting the Toyota Camry car.\n",
      "Starting the Honda CG125 motorcycle.\n",
      "Stopping the Toyota Camry car.\n",
      "Stopping the Honda CG125 motorcycle.\n"
     ]
    }
   ],
   "source": [
    "from abc import ABC, abstractmethod\n",
    "\n",
    "class Vehicle(ABC):\n",
    "    def __init__(self, make, model):\n",
    "        self.make = make\n",
    "        self.model = model\n",
    "        self.is_started = False\n",
    "\n",
    "    @abstractmethod\n",
    "    def start(self):\n",
    "        pass\n",
    "\n",
    "    @abstractmethod\n",
    "    def stop(self):\n",
    "        pass\n",
    "\n",
    "class Car(Vehicle):\n",
    "    def start(self):\n",
    "        if not self.is_started:\n",
    "            self.is_started = True\n",
    "            print(f\"Starting the {self.make} {self.model} car.\")\n",
    "\n",
    "    def stop(self):\n",
    "        if self.is_started:\n",
    "            self.is_started = False\n",
    "            print(f\"Stopping the {self.make} {self.model} car.\")\n",
    "\n",
    "class Motorcycle(Vehicle):\n",
    "    def start(self):\n",
    "        if not self.is_started:\n",
    "            self.is_started = True\n",
    "            print(f\"Starting the {self.make} {self.model} motorcycle.\")\n",
    "\n",
    "    def stop(self):\n",
    "        if self.is_started:\n",
    "            self.is_started = False\n",
    "            print(f\"Stopping the {self.make} {self.model} motorcycle.\")\n",
    "\n",
    "my_car = Car(\"Toyota\", \"Camry\")\n",
    "my_motorcycle = Motorcycle(\"Honda\", \"CG125\")\n",
    "\n",
    "my_car.start()\n",
    "my_motorcycle.start()\n",
    "\n",
    "my_car.stop()\n",
    "my_motorcycle.stop()"
   ]
  },
  {
   "cell_type": "code",
   "execution_count": null,
   "id": "cdced7ba",
   "metadata": {},
   "outputs": [],
   "source": []
  },
  {
   "cell_type": "markdown",
   "id": "949962fb",
   "metadata": {},
   "source": [
    "12. Describe the use of abstract properties in Python and how they can be employed in abstract classes."
   ]
  },
  {
   "cell_type": "code",
   "execution_count": null,
   "id": "715f4cee",
   "metadata": {},
   "outputs": [],
   "source": [
    "\"\"\"\n",
    "Abstract properties in Python are used to define attributes in abstract classes without providing concrete implementations.\n",
    "They ensure that any concrete subclass of an abstract class must implement the abstract properties.\n",
    "Abstract properties are declared using the @property decorator and can be employed in abstract classes to define attributes that must be overridden by concrete subclasses.\n",
    "These properties enforce a contract for attributes that subclasses are required to implement.\n",
    "\"\"\""
   ]
  },
  {
   "cell_type": "code",
   "execution_count": null,
   "id": "0c001f6c",
   "metadata": {},
   "outputs": [],
   "source": []
  },
  {
   "cell_type": "markdown",
   "id": "2f65d0f6",
   "metadata": {},
   "source": [
    "13. Create a Python class hierarchy for employees in a company (e.g., manager, developer, designer) and\n",
    "implement abstraction by defining a common 'get_salary()' method"
   ]
  },
  {
   "cell_type": "code",
   "execution_count": 2,
   "id": "daf72256",
   "metadata": {},
   "outputs": [
    {
     "name": "stdout",
     "output_type": "stream",
     "text": [
      "Your salary has been deposited\n",
      "Your salary has been deposited\n"
     ]
    }
   ],
   "source": [
    "from abc import ABC,abstractmethod\n",
    "class Employee:\n",
    "    def __init__(self,name,role,id):\n",
    "        self.name=name\n",
    "        self.role=role\n",
    "        self.id=id\n",
    "    @abstractmethod\n",
    "    def get_salary(self):\n",
    "        pass\n",
    "class Manager(Employee):\n",
    "    def get_salary(self):\n",
    "        print(\"Your salary has been deposited\")\n",
    "class Developer(Employee):\n",
    "    def get_salary(self):\n",
    "        print(\"Your salary has been deposited\")\n",
    "class Designer(Employee):\n",
    "    def get_salary(self):\n",
    "        print(\"Your salary has been deposited\")\n",
    "\n",
    "sudh=Manager(\"SUDH\",\"DAta Scientist\",\"a2121\")\n",
    "sudh.get_salary()\n",
    "abdullah=Developer(\"ABDULLAH\",\"J.data scientist\",\"A12312\")\n",
    "abdullah.get_salary()"
   ]
  },
  {
   "cell_type": "code",
   "execution_count": null,
   "id": "878307f7",
   "metadata": {},
   "outputs": [],
   "source": []
  },
  {
   "cell_type": "markdown",
   "id": "59a704fa",
   "metadata": {},
   "source": [
    "14. Discuss the differences between abstract classes and concrete classes in Python, including their\n",
    "instantiation."
   ]
  },
  {
   "cell_type": "code",
   "execution_count": 3,
   "id": "22a98c3f",
   "metadata": {},
   "outputs": [
    {
     "data": {
      "text/plain": [
       "'\\nConcrete classes, on the other hand, are regular classes that can be instantiated directly.\\nThey provide concrete implementations of methods and attributes and can be used to create objects.\\n'"
      ]
     },
     "execution_count": 3,
     "metadata": {},
     "output_type": "execute_result"
    }
   ],
   "source": [
    "#Abstract classes\n",
    "\"\"\"\n",
    "Abstract classes in Python are classes that cannot be instantiated directly and are meant to be subclassed.\n",
    "They may contain abstract methods that must be implemented by concrete subclasses.\n",
    "You can create abstract classes using the abc module.\n",
    "\"\"\"\n",
    "#concrete classes\n",
    "\"\"\"\n",
    "Concrete classes, on the other hand, are regular classes that can be instantiated directly.\n",
    "They provide concrete implementations of methods and attributes and can be used to create objects.\n",
    "\"\"\""
   ]
  },
  {
   "cell_type": "code",
   "execution_count": null,
   "id": "9c13a6e6",
   "metadata": {},
   "outputs": [],
   "source": []
  },
  {
   "cell_type": "markdown",
   "id": "0234b4f9",
   "metadata": {},
   "source": [
    "15. Explain the concept of abstract data types (ADTs) and their role in achieving abstraction in Python."
   ]
  },
  {
   "cell_type": "code",
   "execution_count": null,
   "id": "d0b408fc",
   "metadata": {},
   "outputs": [],
   "source": [
    "\"\"\"\n",
    "Abstract Data Types (ADTs) are high-level data structures that are defined by their operations and behavior,\n",
    "rather than their implementation details. They provide an abstract interface for data manipulation,\n",
    "allowing you to work with data in a way that hides the underlying implementation complexity.\n",
    "\n",
    "In Python, classes and objects are often used to define and implement ADTs.\n",
    "By encapsulating data and operations within classes, you can achieve abstraction.\n",
    "This means that the users of your classes only need to know how to use the provided methods and don't need to be concerned with how those methods are implemented.\n",
    "This separation of interface (what the ADT does) from implementation (how it does it) is a fundamental concept in achieving abstraction and simplifying complex systems.\n",
    "\"\"\""
   ]
  },
  {
   "cell_type": "code",
   "execution_count": null,
   "id": "2925ec32",
   "metadata": {},
   "outputs": [],
   "source": []
  },
  {
   "cell_type": "markdown",
   "id": "ffba54c5",
   "metadata": {},
   "source": [
    "16. Create a Python class for a computer system, demonstrating abstraction by defining common methods\n",
    "(eg,power_on(),Shutdown()) in an abstract base class."
   ]
  },
  {
   "cell_type": "code",
   "execution_count": 4,
   "id": "94d5c9cb",
   "metadata": {},
   "outputs": [
    {
     "name": "stdout",
     "output_type": "stream",
     "text": [
      "MyDesktop desktop is shutting down \n",
      "MyLaptop laptop is powering on\n",
      "MyDesktop desktop is shutting down\n",
      "MyLaptop laptop is shutting down\n"
     ]
    }
   ],
   "source": [
    "from abc import ABC,abstractmethod\n",
    "class ComputerSystem(ABC):\n",
    "    def __init__(self,name):\n",
    "        self.name=name\n",
    "        self.is_powered_on=False\n",
    "    @abstractmethod\n",
    "    def power_on(self):\n",
    "        pass\n",
    "    @abstractmethod\n",
    "    def shutdown(self):\n",
    "        pass\n",
    "class Desktop(ComputerSystem):\n",
    "    def power_on(self):\n",
    "        if not self.is_powered_on:\n",
    "            self.is_powered_on=True\n",
    "            print(f\"{self.name} desktop is shutting down \")\n",
    "    def shutdown(self):\n",
    "        if self.is_powered_on:\n",
    "            self.is_powered_on=False\n",
    "            print(f\"{self.name} desktop is shutting down\")\n",
    "class Laptop(ComputerSystem):\n",
    "    def power_on(self):\n",
    "        if not self.is_powered_on:\n",
    "            self.is_powered_on=True\n",
    "            print(f\"{self.name} laptop is powering on\")\n",
    "    def shutdown(self):\n",
    "        if self.is_powered_on:\n",
    "            self.is_powered_on=False\n",
    "            print(f\"{self.name} laptop is shutting down\")\n",
    "\n",
    "my_desktop=Desktop(\"MyDesktop\")\n",
    "my_laptop=Laptop(\"MyLaptop\")\n",
    "\n",
    "my_desktop.power_on()\n",
    "my_laptop.power_on()\n",
    "\n",
    "my_desktop.shutdown()\n",
    "my_laptop.shutdown()"
   ]
  },
  {
   "cell_type": "code",
   "execution_count": null,
   "id": "9569ae9c",
   "metadata": {},
   "outputs": [],
   "source": []
  },
  {
   "cell_type": "markdown",
   "id": "cbb0a3c4",
   "metadata": {},
   "source": [
    "17. Discuss the benefits of using abstraction in large-scale software development projects."
   ]
  },
  {
   "cell_type": "code",
   "execution_count": null,
   "id": "ada01ebe",
   "metadata": {},
   "outputs": [],
   "source": [
    "\"\"\"\n",
    "Abstraction in large-scale software development simplifies complexity, enhances modularity, promotes maintainability,\n",
    "scalability, and team collaboration, encourages code reusability, eases testing and debugging, and supports adaptability\n",
    "to changing requirements.\n",
    "\"\"\""
   ]
  },
  {
   "cell_type": "code",
   "execution_count": null,
   "id": "dadd9a52",
   "metadata": {},
   "outputs": [],
   "source": []
  },
  {
   "cell_type": "markdown",
   "id": "1f97ae3b",
   "metadata": {},
   "source": [
    "18. Explain how abstraction enhances code reusability and modularity in Python programs."
   ]
  },
  {
   "cell_type": "code",
   "execution_count": null,
   "id": "d8e4955b",
   "metadata": {},
   "outputs": [],
   "source": [
    "\"\"\"\n",
    "\n",
    "Abstraction enhances code reusability and modularity in Python programs by hiding implementation details,\n",
    "promoting the separation of concerns, enabling code reuse through interfaces, supporting modular design, and\n",
    "facilitating polymorphism.\n",
    "\"\"\""
   ]
  },
  {
   "cell_type": "code",
   "execution_count": null,
   "id": "4f310330",
   "metadata": {},
   "outputs": [],
   "source": []
  },
  {
   "cell_type": "markdown",
   "id": "02f2c1d9",
   "metadata": {},
   "source": [
    "19. Create a Python class for a library system, implementing abstraction by defining common methods (e.g.,\n",
    "add_book(),borrow_book())in an abstract base class."
   ]
  },
  {
   "cell_type": "code",
   "execution_count": 1,
   "id": "d39e0cd4",
   "metadata": {},
   "outputs": [
    {
     "name": "stdout",
     "output_type": "stream",
     "text": [
      "The Great Gatsby has been checked out.\n",
      "The Great Gatsby is already checked out.\n"
     ]
    }
   ],
   "source": [
    "from abc import ABC, abstractmethod\n",
    "\n",
    "class LibraryItem(ABC):\n",
    "    def __init__(self, title, item_id):\n",
    "        self.title = title\n",
    "        self.item_id = item_id\n",
    "        self.checked_out = False\n",
    "\n",
    "    @abstractmethod\n",
    "    def display_info(self):\n",
    "        pass\n",
    "\n",
    "class Book(LibraryItem):\n",
    "    def display_info(self):\n",
    "        return f\"Book Title: {self.title}, Item ID: {self.item_id}, Status: {'Checked out' if self.checked_out else 'Available'}\"\n",
    "\n",
    "class LibrarySystem:\n",
    "    def __init__(self):\n",
    "        self.catalog = {}\n",
    "\n",
    "    def add_item(self, item):\n",
    "        if item.item_id not in self.catalog:\n",
    "            self.catalog[item.item_id] = item\n",
    "        else:\n",
    "            print(\"Item with the same ID already exists in the catalog.\")\n",
    "\n",
    "    def borrow_book(self, item_id):\n",
    "        if item_id in self.catalog:\n",
    "            if not self.catalog[item_id].checked_out:\n",
    "                self.catalog[item_id].checked_out = True\n",
    "                print(f\"{self.catalog[item_id].title} has been checked out.\")\n",
    "            else:\n",
    "                print(f\"{self.catalog[item_id].title} is already checked out.\")\n",
    "        else:\n",
    "            print(\"Item not found in the catalog.\")\n",
    "\n",
    "book1 = Book(\"The Great Gatsby\", \"B001\")\n",
    "book2 = Book(\"To Kill a Mockingbird\", \"B002\")\n",
    "\n",
    "library = LibrarySystem()\n",
    "library.add_item(book1)\n",
    "library.add_item(book2)\n",
    "\n",
    "library.borrow_book(\"B001\")\n",
    "library.borrow_book(\"B001\") \n"
   ]
  },
  {
   "cell_type": "code",
   "execution_count": null,
   "id": "22532971",
   "metadata": {},
   "outputs": [],
   "source": []
  },
  {
   "cell_type": "markdown",
   "id": "f6bdacce",
   "metadata": {},
   "source": [
    "20. Describe the concept of method abstraction in Python and how it relates to polymorphism."
   ]
  },
  {
   "cell_type": "code",
   "execution_count": null,
   "id": "6c3e277b",
   "metadata": {},
   "outputs": [],
   "source": [
    "\"\"\"\n",
    "Method abstraction in Python refers to defining methods in an abstract base class (ABC) without providing a concrete implementation.\n",
    "Subclasses are required to override these methods with their own implementations.\n",
    "It relates to polymorphism by allowing different objects to share a common interface (the abstract methods) while providing\n",
    "their unique behavior, enabling polymorphic behavior when calling these methods on different objects.\n",
    "\"\"\""
   ]
  },
  {
   "cell_type": "code",
   "execution_count": null,
   "id": "79434ca3",
   "metadata": {},
   "outputs": [],
   "source": []
  },
  {
   "cell_type": "markdown",
   "id": "4e1791f1",
   "metadata": {},
   "source": [
    "# Composition:"
   ]
  },
  {
   "cell_type": "markdown",
   "id": "e4a6bb94",
   "metadata": {},
   "source": [
    "1. Explain the concept of composition in Python and how it is used to build complex objects from simpler ones."
   ]
  },
  {
   "cell_type": "code",
   "execution_count": null,
   "id": "ffddd18b",
   "metadata": {},
   "outputs": [],
   "source": [
    "\"\"\"\n",
    "Composition in Python is a design principle that involves constructing complex objects by combining simpler objects as attributes within a class.\n",
    "It promotes modularity and code reusability, allowing you to create more flexible and maintainable code.\n",
    "\"\"\""
   ]
  },
  {
   "cell_type": "code",
   "execution_count": null,
   "id": "6ed99037",
   "metadata": {},
   "outputs": [],
   "source": []
  },
  {
   "cell_type": "markdown",
   "id": "6b7a0896",
   "metadata": {},
   "source": [
    "2. Describe the difference between composition and inheritance in object-oriented programming."
   ]
  },
  {
   "cell_type": "code",
   "execution_count": null,
   "id": "90189146",
   "metadata": {},
   "outputs": [],
   "source": [
    "\"\"\"\n",
    "Composition involves building complex objects by combining simpler objects as attributes within a class. \n",
    "Inheritance is a mechanism where a new class inherits properties and behaviors from an existing class.\n",
    "Composition promotes flexibility and code reusability, while inheritance establishes an \"is-a\" relationship and can lead to tight coupling between classes.\n",
    "\"\"\""
   ]
  },
  {
   "cell_type": "code",
   "execution_count": null,
   "id": "f7e8c6c0",
   "metadata": {},
   "outputs": [],
   "source": []
  },
  {
   "cell_type": "markdown",
   "id": "7a12fb32",
   "metadata": {},
   "source": [
    "3. Create a Python class called `Author` with attributes for name and birthdate. Then, create a `Book` class\n",
    "that contains an instance of `Author` as a composition. Provide an example of creating a `Book` object."
   ]
  },
  {
   "cell_type": "code",
   "execution_count": 1,
   "id": "d24cffbc",
   "metadata": {},
   "outputs": [
    {
     "name": "stdout",
     "output_type": "stream",
     "text": [
      "Title :Python\n",
      "Author :Abdullah\n",
      "Author Birthday :19 Aug,2003\n",
      "Publish Year :2000\n"
     ]
    }
   ],
   "source": [
    "class Author:\n",
    "    def __init__(self,name,birthdate):\n",
    "        self.name=name\n",
    "        self.birthdate=birthdate\n",
    "class Book:\n",
    "    def __init__(self,title,author,publish_year):\n",
    "        self.title=title\n",
    "        self.author=author\n",
    "        self.publish_year=publish_year\n",
    "    def get_info(self):\n",
    "        print(f\"Title :{self.title}\")\n",
    "        print(f\"Author :{self.author.name}\")\n",
    "        print(f\"Author Birthday :{self.author.birthdate}\")\n",
    "        print(f\"Publish Year :{self.publish_year}\")\n",
    "author1=Author(\"Abdullah\",\"19 Aug,2003\")\n",
    "book=Book(\"Python\",author1,2000)\n",
    "book.get_info()\n"
   ]
  },
  {
   "cell_type": "code",
   "execution_count": null,
   "id": "e01d169f",
   "metadata": {},
   "outputs": [],
   "source": []
  },
  {
   "cell_type": "markdown",
   "id": "0c134c79",
   "metadata": {},
   "source": [
    "4. Discuss the benefits of using composition over inheritance in Python, especially in terms of code flexibility\n",
    "and reusability."
   ]
  },
  {
   "cell_type": "code",
   "execution_count": null,
   "id": "4b2cc788",
   "metadata": {},
   "outputs": [],
   "source": [
    "\"\"\"\n",
    "Composition in Python offers code flexibility and reusability by allowing you to build complex objects from simpler components,\n",
    "reducing coupling, avoiding inheritance issues, and facilitating easier maintenance.\n",
    "\"\"\""
   ]
  },
  {
   "cell_type": "code",
   "execution_count": null,
   "id": "effe03df",
   "metadata": {},
   "outputs": [],
   "source": []
  },
  {
   "cell_type": "markdown",
   "id": "07093d7b",
   "metadata": {},
   "source": [
    "5. How can you implement composition in Python classes? Provide examples of using composition to create\n",
    "complex objects."
   ]
  },
  {
   "cell_type": "code",
   "execution_count": 2,
   "id": "12f2063e",
   "metadata": {},
   "outputs": [
    {
     "name": "stdout",
     "output_type": "stream",
     "text": [
      "Car is in motion\n",
      "Engine Started\n",
      "Wheels rotating\n"
     ]
    }
   ],
   "source": [
    "\"\"\"\n",
    "You can implement composition in Python classes by creating instances of other classes as attributes within a class.\n",
    "\"\"\"\n",
    "#Example\n",
    "class Engine:\n",
    "    def start(self):\n",
    "        print(\"Engine Started\")\n",
    "class Wheels:\n",
    "    def rotate(self):\n",
    "        print(\"Wheels rotating\")\n",
    "class Car:\n",
    "    def __init__(self):\n",
    "        self.engine=Engine()\n",
    "        self.wheels=Wheels()\n",
    "    def drive(self):\n",
    "        print(\"Car is in motion\")\n",
    "        self.engine.start()\n",
    "        self.wheels.rotate()\n",
    "my_car=Car()\n",
    "my_car.drive()"
   ]
  },
  {
   "cell_type": "code",
   "execution_count": null,
   "id": "e8efadea",
   "metadata": {},
   "outputs": [],
   "source": []
  },
  {
   "cell_type": "markdown",
   "id": "1bbbfae1",
   "metadata": {},
   "source": [
    "6. Create a Python class hierarchy for a music player system, using composition to represent playlists and\n",
    "songs."
   ]
  },
  {
   "cell_type": "code",
   "execution_count": 4,
   "id": "5ee9372e",
   "metadata": {},
   "outputs": [
    {
     "name": "stdout",
     "output_type": "stream",
     "text": [
      "Playing: Song 1 by Arjit singh\n",
      "\n",
      "\n",
      "Playing playlist: My Favorites\n",
      "Playing: Song 1 by Arjit singh\n",
      "Playing: Song 2 by Atif aslam\n"
     ]
    }
   ],
   "source": [
    "class Song:\n",
    "    def __init__(self, title, artist, duration):\n",
    "        self.title = title\n",
    "        self.artist = artist\n",
    "        self.duration = duration\n",
    "\n",
    "    def play(self):\n",
    "        print(f\"Playing: {self.title} by {self.artist}\")\n",
    "\n",
    "class Playlist:\n",
    "    def __init__(self, name):\n",
    "        self.name = name\n",
    "        self.songs = []\n",
    "\n",
    "    def add_song(self, song):\n",
    "        self.songs.append(song)\n",
    "\n",
    "    def play(self):\n",
    "        print(f\"Playing playlist: {self.name}\")\n",
    "        for song in self.songs:\n",
    "            song.play()\n",
    "\n",
    "class MusicPlayer:\n",
    "    def __init__(self):\n",
    "        self.playlists = []\n",
    "\n",
    "    def create_playlist(self, name):\n",
    "        playlist = Playlist(name)\n",
    "        self.playlists.append(playlist)\n",
    "        return playlist\n",
    "\n",
    "# Example usage\n",
    "player = MusicPlayer()\n",
    "\n",
    "song1 = Song(\"Song 1\", \"Arjit singh\", \"3:45\")\n",
    "song2 = Song(\"Song 2\", \"Atif aslam\", \"4:15\")\n",
    "song3 = Song(\"Song 3\", \"Rahat fateh ali khan\", \"3:30\")\n",
    "\n",
    "playlist1 = player.create_playlist(\"My Favorites\")\n",
    "playlist1.add_song(song1)\n",
    "playlist1.add_song(song2)\n",
    "\n",
    "playlist2 = player.create_playlist(\"Kesariya\")\n",
    "playlist2.add_song(song2)\n",
    "playlist2.add_song(song3)\n",
    "\n",
    "song1.play() \n",
    "print(\"\\n\")\n",
    "playlist1.play()\n"
   ]
  },
  {
   "cell_type": "code",
   "execution_count": null,
   "id": "7912ed87",
   "metadata": {},
   "outputs": [],
   "source": []
  },
  {
   "cell_type": "markdown",
   "id": "1eba3b3c",
   "metadata": {},
   "source": [
    "7. Explain the concept of \"has-a\" relationships in composition and how it helps design software systems."
   ]
  },
  {
   "cell_type": "code",
   "execution_count": null,
   "id": "7632f89f",
   "metadata": {},
   "outputs": [],
   "source": [
    "\"\"\"\n",
    "A \"has-a\" relationship in composition represents how one class or object contains or is composed of another class or object.\n",
    "It promotes modularity, reusability, flexibility, reduced coupling, abstraction, and scalability in software design.\n",
    "\"\"\""
   ]
  },
  {
   "cell_type": "code",
   "execution_count": null,
   "id": "5a24bee3",
   "metadata": {},
   "outputs": [],
   "source": []
  },
  {
   "cell_type": "markdown",
   "id": "87838741",
   "metadata": {},
   "source": [
    "8. Create a Python class for a computer system, using composition to represent components like CPU, RAM,\n",
    "and storage devices."
   ]
  },
  {
   "cell_type": "code",
   "execution_count": 12,
   "id": "32c3c21e",
   "metadata": {},
   "outputs": [
    {
     "name": "stdout",
     "output_type": "stream",
     "text": [
      "Computer System\n",
      "CPU: Intel, Speed: 3.5 GHz\n",
      "RAM: 16 GB\n",
      "Storage: 512 GB SSD Drive\n"
     ]
    }
   ],
   "source": [
    "class CPU:\n",
    "    def __init__(self, brand, speed):\n",
    "        self.brand = brand\n",
    "        self.speed = speed\n",
    "\n",
    "    def info(self):\n",
    "        return f\"CPU: {self.brand}, Speed: {self.speed} GHz\"\n",
    "\n",
    "class RAM:\n",
    "    def __init__(self, capacity):\n",
    "        self.capacity = capacity\n",
    "\n",
    "    def info(self):\n",
    "        return f\"RAM: {self.capacity} GB\"\n",
    "\n",
    "class StorageDevice:\n",
    "    def __init__(self, type, capacity):\n",
    "        self.type = type\n",
    "        self.capacity = capacity\n",
    "\n",
    "    def info(self):\n",
    "        return f\"Storage: {self.capacity} GB {self.type} Drive\"\n",
    "\n",
    "class ComputerSystem:\n",
    "    def __init__(self, cpu, ram, storage):\n",
    "        self.cpu = cpu\n",
    "        self.ram = ram\n",
    "        self.storage = storage\n",
    "\n",
    "    def system_info(self):\n",
    "        return f\"Computer System\\n{self.cpu.info()}\\n{self.ram.info()}\\n{self.storage.info()}\"\n",
    "\n",
    "cpu = CPU(\"Intel\", 3.5)\n",
    "ram = RAM(16)\n",
    "storage = StorageDevice(\"SSD\", 512)\n",
    "\n",
    "computer = ComputerSystem(cpu, ram, storage)\n",
    "print(computer.system_info())\n",
    "\n",
    "     "
   ]
  },
  {
   "cell_type": "code",
   "execution_count": null,
   "id": "df147961",
   "metadata": {},
   "outputs": [],
   "source": []
  },
  {
   "cell_type": "markdown",
   "id": "bd42e439",
   "metadata": {},
   "source": [
    "9. Describe the concept of \"delegation\" in composition and how it simplifies the design of complex systems."
   ]
  },
  {
   "cell_type": "code",
   "execution_count": 13,
   "id": "d3f60f8b",
   "metadata": {},
   "outputs": [
    {
     "data": {
      "text/plain": [
       "''"
      ]
     },
     "execution_count": 13,
     "metadata": {},
     "output_type": "execute_result"
    }
   ],
   "source": [
    "\"\"\"\n",
    "Delegation in composition simplifies complex system design by breaking down tasks into smaller, modular components.\n",
    "It promotes modularity, code reusability, loose coupling, and abstraction, making systems easier to understand, test,\n",
    "and maintain, as well as more adaptable to changes.\n",
    "\"\"\""
   ]
  },
  {
   "cell_type": "code",
   "execution_count": null,
   "id": "a91c42d6",
   "metadata": {},
   "outputs": [],
   "source": []
  },
  {
   "cell_type": "markdown",
   "id": "204ea624",
   "metadata": {},
   "source": [
    "10. Create a Python class for a car, using composition to represent components like the engine, wheels, and\n",
    "transmission."
   ]
  },
  {
   "cell_type": "code",
   "execution_count": 1,
   "id": "509aa6f9",
   "metadata": {},
   "outputs": [
    {
     "name": "stdout",
     "output_type": "stream",
     "text": [
      "Engine started\n",
      "Wheels are rotating\n",
      "Gear changed to D\n",
      "Engine stopped\n",
      "Wheels are rotating\n"
     ]
    }
   ],
   "source": [
    "class Engine:\n",
    "    def start(self):\n",
    "        print(\"Engine started\")\n",
    "\n",
    "    def stop(self):\n",
    "        print(\"Engine stopped\")\n",
    "\n",
    "class Wheels:\n",
    "    def rotate(self):\n",
    "        print(\"Wheels are rotating\")\n",
    "\n",
    "class Transmission:\n",
    "    def change_gear(self, gear):\n",
    "        print(f\"Gear changed to {gear}\")\n",
    "\n",
    "class Car:\n",
    "    def __init__(self):\n",
    "        self.engine = Engine()\n",
    "        self.wheels = Wheels()\n",
    "        self.transmission = Transmission()\n",
    "\n",
    "    def start_car(self):\n",
    "        self.engine.start()\n",
    "        self.wheels.rotate()\n",
    "\n",
    "    def stop_car(self):\n",
    "        self.engine.stop()\n",
    "        self.wheels.rotate()\n",
    "\n",
    "    def change_gear(self, gear):\n",
    "        self.transmission.change_gear(gear)\n",
    "my_car = Car()\n",
    "\n",
    "my_car.start_car()\n",
    "\n",
    "my_car.change_gear(\"D\")\n",
    "\n",
    "my_car.stop_car()\n"
   ]
  },
  {
   "cell_type": "code",
   "execution_count": null,
   "id": "52c457c5",
   "metadata": {},
   "outputs": [],
   "source": []
  },
  {
   "cell_type": "markdown",
   "id": "b5a974a8",
   "metadata": {},
   "source": [
    "11. How can you encapsulate and hide the details of composed objects in Python classes to maintain\n",
    "abstraction?"
   ]
  },
  {
   "cell_type": "code",
   "execution_count": null,
   "id": "de664a94",
   "metadata": {},
   "outputs": [],
   "source": [
    "\"\"\"\n",
    "To encapsulate and hide the details of composed objects in Python classes to maintain abstraction:\n",
    "\n",
    "Use private attributes (prefix with a single underscore, e.g., _engine).\n",
    "Provide public methods for controlled access (e.g., start, stop).\n",
    "Restrict access further by using double underscores (name mangling, e.g., __engine, not recommended for most cases)\n",
    "\"\"\""
   ]
  },
  {
   "cell_type": "code",
   "execution_count": null,
   "id": "31142681",
   "metadata": {},
   "outputs": [],
   "source": []
  },
  {
   "cell_type": "markdown",
   "id": "b3eee893",
   "metadata": {},
   "source": [
    "12. Create a Python class for a university course, using composition to represent students, instructors, and\n",
    "course materials."
   ]
  },
  {
   "cell_type": "code",
   "execution_count": 4,
   "id": "5cfc9384",
   "metadata": {},
   "outputs": [
    {
     "name": "stdout",
     "output_type": "stream",
     "text": [
      "Course Name: Data Science, Subjects: Mathematics, Statistics, Machine Learning, Data Analysis\n",
      "Students:\n",
      "Student Name: Alice, Student ID: S001\n",
      "Student Name: Bob, Student ID: S002\n",
      "Instructors:\n",
      "Instructor Name: Dr. Smith, Instructor ID: I001\n",
      "Instructor Name: Prof. Johnson, Instructor ID: I002\n"
     ]
    }
   ],
   "source": [
    "class Student:\n",
    "    def __init__(self, name, student_id):\n",
    "        self.name = name\n",
    "        self.student_id = student_id\n",
    "\n",
    "    def get_student_info(self):\n",
    "        return f\"Student Name: {self.name}, Student ID: {self.student_id}\"\n",
    "\n",
    "class Instructor:\n",
    "    def __init__(self, name, instructor_id):\n",
    "        self.name = name\n",
    "        self.instructor_id = instructor_id\n",
    "\n",
    "    def get_instructor_info(self):\n",
    "        return f\"Instructor Name: {self.name}, Instructor ID: {self.instructor_id}\"\n",
    "\n",
    "class CourseMaterial:\n",
    "    def __init__(self, course_name, subjects):\n",
    "        self.course_name = course_name\n",
    "        self.subjects = subjects\n",
    "\n",
    "    def get_course_info(self):\n",
    "        return f\"Course Name: {self.course_name}, Subjects: {', '.join(self.subjects)}\"\n",
    "\n",
    "class UniversityCourse:\n",
    "    def __init__(self, course_name, subjects):\n",
    "        self.course_material = CourseMaterial(course_name, subjects)\n",
    "        self.students = []\n",
    "        self.instructors = []\n",
    "\n",
    "    def add_student(self, student):\n",
    "        self.students.append(student)\n",
    "\n",
    "    def add_instructor(self, instructor):\n",
    "        self.instructors.append(instructor)\n",
    "\n",
    "    def get_course_info(self):\n",
    "        return self.course_material.get_course_info()\n",
    "\n",
    "    def get_students_info(self):\n",
    "        return [student.get_student_info() for student in self.students]\n",
    "\n",
    "    def get_instructors_info(self):\n",
    "        return [instructor.get_instructor_info() for instructor in self.instructors]\n",
    "\n",
    "data_science_course = UniversityCourse(\"Data Science\", [\"Mathematics\", \"Statistics\", \"Machine Learning\", \"Data Analysis\"])\n",
    "\n",
    "student1 = Student(\"Alice\", \"S001\")\n",
    "student2 = Student(\"Bob\", \"S002\")\n",
    "instructor1 = Instructor(\"Dr. Smith\", \"I001\")\n",
    "instructor2 = Instructor(\"Prof. Johnson\", \"I002\")\n",
    "\n",
    "data_science_course.add_student(student1)\n",
    "data_science_course.add_student(student2)\n",
    "data_science_course.add_instructor(instructor1)\n",
    "data_science_course.add_instructor(instructor2)\n",
    "\n",
    "print(data_science_course.get_course_info())\n",
    "print(\"Students:\")\n",
    "for student_info in data_science_course.get_students_info():\n",
    "    print(student_info)\n",
    "print(\"Instructors:\")\n",
    "for instructor_info in data_science_course.get_instructors_info():\n",
    "    print(instructor_info)\n"
   ]
  },
  {
   "cell_type": "code",
   "execution_count": null,
   "id": "3f03fa7a",
   "metadata": {},
   "outputs": [],
   "source": []
  },
  {
   "cell_type": "markdown",
   "id": "33809365",
   "metadata": {},
   "source": [
    "13. Discuss the challenges and drawbacks of composition, such as increased complexity and potential for\n",
    "tight coupling between objects."
   ]
  },
  {
   "cell_type": "code",
   "execution_count": 5,
   "id": "240d57f7",
   "metadata": {},
   "outputs": [
    {
     "data": {
      "text/plain": [
       "'Challenges and drawbacks of composition include increased complexity, potential for tight coupling between objects,\\ndifficulty in choosing between inheritance and composition, challenges in debugging and testing, increased code and \\nmaintenance effort, managing dependencies, and potential for introducing overhead in certain cases.'"
      ]
     },
     "execution_count": 5,
     "metadata": {},
     "output_type": "execute_result"
    }
   ],
   "source": [
    "\"\"\"Challenges and drawbacks of composition include increased complexity, potential for tight coupling between objects,\n",
    "difficulty in choosing between inheritance and composition, challenges in debugging and testing, increased code and \n",
    "maintenance effort, managing dependencies, and potential for introducing overhead in certain cases.\"\"\""
   ]
  },
  {
   "cell_type": "code",
   "execution_count": null,
   "id": "296b2808",
   "metadata": {},
   "outputs": [],
   "source": []
  },
  {
   "cell_type": "markdown",
   "id": "573054d1",
   "metadata": {},
   "source": [
    "14. Create a Python class hierarchy for a restaurant system, using composition to represent menus, dishes,\n",
    "and ingredients."
   ]
  },
  {
   "cell_type": "code",
   "execution_count": 9,
   "id": "1f7486a6",
   "metadata": {},
   "outputs": [],
   "source": [
    "class Ingredient:\n",
    "    def __init__(self, name, quantity):\n",
    "        self.name = name\n",
    "        self.quantity = quantity\n",
    "\n",
    "class Dish:\n",
    "    def __init__(self, name, ingredients):\n",
    "        self.name = name\n",
    "        self.ingredients = ingredients\n",
    "\n",
    "class Menu:\n",
    "    def __init__(self, name, dishes):\n",
    "        self.name = name\n",
    "        self.dishes = dishes\n",
    "\n",
    "class Restaurant:\n",
    "    def __init__(self, name, menus):\n",
    "        self.name = name\n",
    "        self.menus = menus\n",
    "\n",
    "\n",
    "tomato = Ingredient(\"Tomato\", 2)\n",
    "cheese = Ingredient(\"Cheese\", 1)\n",
    "bread = Ingredient(\"Bread\", 2)\n",
    "\n",
    "\n",
    "margherita_pizza = Dish(\"Margherita Pizza\", [tomato, cheese, bread])\n",
    "spaghetti_carbonara = Dish(\"Spaghetti Carbonara\", [tomato, cheese])\n",
    "caesar_salad = Dish(\"Caesar Salad\", [tomato, bread])\n",
    "\n",
    "\n",
    "italian_menu = Menu(\"Italian\", [margherita_pizza, spaghetti_carbonara, caesar_salad])\n",
    "print(italian_menu)\n",
    "\n",
    "tasty_eats = Restaurant(\"Tasty Eats\", [italian_menu])\n",
    "print(tasty_eats)\n"
   ]
  },
  {
   "cell_type": "code",
   "execution_count": null,
   "id": "94a5edc9",
   "metadata": {},
   "outputs": [],
   "source": []
  },
  {
   "cell_type": "markdown",
   "id": "b72c19c7",
   "metadata": {},
   "source": [
    "15. Explain how composition enhances code maintainability and modularity in Python programs."
   ]
  },
  {
   "cell_type": "code",
   "execution_count": null,
   "id": "23138e35",
   "metadata": {},
   "outputs": [],
   "source": [
    "\"\"\"\n",
    "Composition enhances code maintainability and modularity in Python programs by allowing you to build complex systems from smaller, reusable components. This results in:\n",
    "Improved Maintainability: Changes to one component don't necessarily affect others, making it easier to fix or enhance specific parts of the code.\n",
    "Enhanced Modularity: Code is organized into separate, self-contained components, promoting a clear structure and facilitating code reuse.\n",
    "Reduced Complexity: Smaller components are easier to understand and manage, reducing the overall complexity of the codebase.\n",
    "Flexibility: Components can be swapped or extended without affecting the entire system, providing flexibility and adaptability.\n",
    "\"\"\""
   ]
  },
  {
   "cell_type": "code",
   "execution_count": null,
   "id": "3a53b69b",
   "metadata": {},
   "outputs": [],
   "source": []
  },
  {
   "cell_type": "markdown",
   "id": "31e2a406",
   "metadata": {},
   "source": [
    "16. Create a Python class for a computer game character, using composition to represent attributes like\n",
    "weapons, armor, and inventory."
   ]
  },
  {
   "cell_type": "code",
   "execution_count": 6,
   "id": "b5e44c57",
   "metadata": {},
   "outputs": [
    {
     "name": "stdout",
     "output_type": "stream",
     "text": [
      "Player 1's Inventory:\n",
      "- Health Potion\n",
      "Player 1's Health: 93\n"
     ]
    }
   ],
   "source": [
    "class Weapon:\n",
    "    def __init__(self, name, damage):\n",
    "        self.name = name\n",
    "        self.damage = damage\n",
    "\n",
    "class Armor:\n",
    "    def __init__(self, name, defense):\n",
    "        self.name = name\n",
    "        self.defense = defense\n",
    "\n",
    "class Inventory:\n",
    "    def __init__(self):\n",
    "        self.items = []\n",
    "\n",
    "    def add_item(self, item):\n",
    "        self.items.append(item)\n",
    "\n",
    "    def remove_item(self, item):\n",
    "        self.items.remove(item)\n",
    "\n",
    "class Character:\n",
    "    def __init__(self, name, health, weapon, armor):\n",
    "        self.name = name\n",
    "        self.health = health\n",
    "        self.weapon = weapon\n",
    "        self.armor = armor\n",
    "        self.inventory = Inventory()\n",
    "\n",
    "    def take_damage(self, damage):\n",
    "        effective_damage = max(0, damage - self.armor.defense)\n",
    "        self.health -= effective_damage\n",
    "\n",
    "    def equip_weapon(self, weapon):\n",
    "        self.weapon = weapon\n",
    "\n",
    "    def equip_armor(self, armor):\n",
    "        self.armor = armor\n",
    "\n",
    "    def add_item_to_inventory(self, item):\n",
    "        self.inventory.add_item(item)\n",
    "\n",
    "    def remove_item_from_inventory(self, item):\n",
    "        self.inventory.remove_item(item)\n",
    "\n",
    "    def display_inventory(self):\n",
    "        print(f\"{self.name}'s Inventory:\")\n",
    "        for item in self.inventory.items:\n",
    "            print(f\"- {item.name}\")\n",
    "\n",
    "sword = Weapon(\"Sword\", 10)\n",
    "shield = Armor(\"Shield\", 5)\n",
    "\n",
    "player = Character(\"Player 1\", 100, sword, shield)\n",
    "\n",
    "potion = Inventory()\n",
    "potion.name = \"Health Potion\"\n",
    "player.add_item_to_inventory(potion)\n",
    "\n",
    "player.display_inventory()\n",
    "\n",
    "enemy_damage = 12\n",
    "player.take_damage(enemy_damage)\n",
    "\n",
    "print(f\"{player.name}'s Health: {player.health}\")\n",
    "\n",
    "\n",
    "\n",
    "\n"
   ]
  },
  {
   "cell_type": "code",
   "execution_count": null,
   "id": "0afd7834",
   "metadata": {},
   "outputs": [],
   "source": []
  },
  {
   "cell_type": "markdown",
   "id": "f00507ec",
   "metadata": {},
   "source": [
    "17. Describe the concept of \"aggregation\" in composition and how it differs from simple composition."
   ]
  },
  {
   "cell_type": "code",
   "execution_count": null,
   "id": "9557af73",
   "metadata": {},
   "outputs": [],
   "source": [
    "\"\"\"\n",
    "Composition is a strong relationship where the contained objects are essential parts of the containing object\n",
    "and share their lifecycle. Aggregation is a weaker relationship where\n",
    "the contained objects are related to the containing object but can exist independently with their own lifecycles.\n",
    "\"\"\""
   ]
  },
  {
   "cell_type": "code",
   "execution_count": null,
   "id": "3d9a73e3",
   "metadata": {},
   "outputs": [],
   "source": []
  },
  {
   "cell_type": "markdown",
   "id": "89cd64f5",
   "metadata": {},
   "source": [
    "18. Create a Python class for a house, using composition to represent rooms, furniture, and appliances."
   ]
  },
  {
   "cell_type": "code",
   "execution_count": 7,
   "id": "1601d5ac",
   "metadata": {},
   "outputs": [
    {
     "name": "stdout",
     "output_type": "stream",
     "text": [
      "Room: Living Room\n",
      "- Couch\n",
      "- Coffee Table\n",
      "Room: Kitchen\n"
     ]
    }
   ],
   "source": [
    "class Room:\n",
    "    def __init__(self, name):\n",
    "        self.name = name\n",
    "        self.furniture = []\n",
    "\n",
    "    def add_furniture(self, furniture):\n",
    "        self.furniture.append(furniture)\n",
    "\n",
    "class Furniture:\n",
    "    def __init__(self, name):\n",
    "        self.name = name\n",
    "\n",
    "class House:\n",
    "    def __init__(self, address):\n",
    "        self.address = address\n",
    "        self.rooms = []\n",
    "\n",
    "    def add_room(self, room):\n",
    "        self.rooms.append(room)\n",
    "\n",
    "\n",
    "couch = Furniture(\"Couch\")\n",
    "table = Furniture(\"Coffee Table\")\n",
    "\n",
    "\n",
    "living_room = Room(\"Living Room\")\n",
    "living_room.add_furniture(couch)\n",
    "living_room.add_furniture(table)\n",
    "\n",
    "kitchen = Room(\"Kitchen\")\n",
    "\n",
    "my_house = House(\"123 Main Street\")\n",
    "my_house.add_room(living_room)\n",
    "my_house.add_room(kitchen)\n",
    "\n",
    "for room in my_house.rooms:\n",
    "    print(f\"Room: {room.name}\")\n",
    "    for furniture in room.furniture:\n",
    "        print(f\"- {furniture.name}\")\n"
   ]
  },
  {
   "cell_type": "code",
   "execution_count": null,
   "id": "1a983f44",
   "metadata": {},
   "outputs": [],
   "source": []
  },
  {
   "cell_type": "markdown",
   "id": "a3c8c78f",
   "metadata": {},
   "source": [
    "19. How can you achieve flexibility in composed objects by allowing them to be replaced or modified\n",
    "dynamically at runtime?"
   ]
  },
  {
   "cell_type": "code",
   "execution_count": null,
   "id": "f7164c0f",
   "metadata": {},
   "outputs": [],
   "source": [
    "\"\"\"To achieve flexibility in composed objects and allow them to be replaced or modified dynamically at runtime:\n",
    "\n",
    "Use Dependency Injection to pass dependencies as parameters or through setter methods.\n",
    "Implement Factory Methods to create and switch between different component implementations.\n",
    "Employ the Strategy Pattern by encapsulating algorithms in separate classes and swapping them at runtime.\n",
    "Define interfaces to specify the contract for components, allowing dynamic replacement of implementations.\"\"\""
   ]
  },
  {
   "cell_type": "code",
   "execution_count": null,
   "id": "0d079ccd",
   "metadata": {},
   "outputs": [],
   "source": []
  },
  {
   "cell_type": "markdown",
   "id": "a3590e8f",
   "metadata": {},
   "source": [
    "20. Create a Python class for a social media application, using composition to represent users, posts, and\n",
    "comments."
   ]
  },
  {
   "cell_type": "code",
   "execution_count": 8,
   "id": "87707fb4",
   "metadata": {},
   "outputs": [
    {
     "name": "stdout",
     "output_type": "stream",
     "text": [
      "User: KUMAR\n",
      "Posts:\n",
      "- Hello, World!\n",
      "Comments:\n",
      "- Thanks, KHAN!\n",
      "User: KHAN\n",
      "Posts:\n",
      "Comments:\n",
      "- Nice post, KUMAR!\n"
     ]
    }
   ],
   "source": [
    "class User:\n",
    "    def __init__(self, username):\n",
    "        self.username = username\n",
    "        self.posts = []\n",
    "        self.comments = []\n",
    "\n",
    "    def create_post(self, content):\n",
    "        post = Post(self, content)\n",
    "        self.posts.append(post)\n",
    "        return post\n",
    "\n",
    "    def create_comment(self, post, text):\n",
    "        comment = Comment(self, post, text)\n",
    "        self.comments.append(comment)\n",
    "        return comment\n",
    "\n",
    "    def display_user_info(self):\n",
    "        print(f\"User: {self.username}\")\n",
    "        print(\"Posts:\")\n",
    "        for post in self.posts:\n",
    "            print(f\"- {post.content}\")\n",
    "        print(\"Comments:\")\n",
    "        for comment in self.comments:\n",
    "            print(f\"- {comment.text}\")\n",
    "\n",
    "class Post:\n",
    "    def __init__(self, user, content):\n",
    "        self.user = user\n",
    "        self.content = content\n",
    "        self.comments = []\n",
    "\n",
    "    def add_comment(self, comment):\n",
    "        self.comments.append(comment)\n",
    "\n",
    "class Comment:\n",
    "    def __init__(self, user, post, text):\n",
    "        self.user = user\n",
    "        self.post = post\n",
    "        self.text = text\n",
    "\n",
    "user1 = User(\"KUMAR\")\n",
    "user2 = User(\"KHAN\")\n",
    "\n",
    "post1 = user1.create_post(\"Hello, World!\")\n",
    "\n",
    "user2.create_comment(post1, \"Nice post, KUMAR!\")\n",
    "\n",
    "user1.create_comment(post1, \"Thanks, KHAN!\")\n",
    "\n",
    "user1.display_user_info()\n",
    "user2.display_user_info()\n"
   ]
  },
  {
   "cell_type": "code",
   "execution_count": null,
   "id": "098a23df",
   "metadata": {},
   "outputs": [],
   "source": []
  }
 ],
 "metadata": {
  "kernelspec": {
   "display_name": "Python 3 (ipykernel)",
   "language": "python",
   "name": "python3"
  },
  "language_info": {
   "codemirror_mode": {
    "name": "ipython",
    "version": 3
   },
   "file_extension": ".py",
   "mimetype": "text/x-python",
   "name": "python",
   "nbconvert_exporter": "python",
   "pygments_lexer": "ipython3",
   "version": "3.10.9"
  }
 },
 "nbformat": 4,
 "nbformat_minor": 5
}
